{
 "cells": [
  {
   "cell_type": "markdown",
   "metadata": {},
   "source": [
    "Author:Ankur Wasnik<br>\n",
    "Machine Learnig "
   ]
  },
  {
   "cell_type": "code",
   "execution_count": 1,
   "metadata": {},
   "outputs": [],
   "source": [
    "import numpy as np\n",
    "from io import StringIO\n",
    "import pandas as pd"
   ]
  },
  {
   "cell_type": "code",
   "execution_count": 2,
   "metadata": {},
   "outputs": [
    {
     "name": "stdout",
     "output_type": "stream",
     "text": [
      "       0     1       2       3     4       5  6\n",
      "0  Sunny  Warm  Normal  Strong  Warm    Same  1\n",
      "1  Sunny  Warm    High  Strong  Warm    Same  1\n",
      "2  Rainy  Cold    High  Strong  Warm  Change  0\n",
      "3  Sunny  Warm    High  Strong  Cool  Change  1\n"
     ]
    }
   ],
   "source": [
    "data = '''\\\n",
    "Sunny,Warm,Normal,Strong,Warm,Same,1\n",
    "Sunny,Warm,High,Strong,Warm,Same,1\n",
    "Rainy,Cold,High,Strong,Warm,Change,0\n",
    "Sunny,Warm,High,Strong,Cool,Change,1\n",
    "'''\n",
    "df = pd.read_csv(StringIO(data) , header=None)\n",
    "print(df)"
   ]
  },
  {
   "cell_type": "code",
   "execution_count": 3,
   "metadata": {},
   "outputs": [],
   "source": [
    "df.columns = ['Sky','AirTemp','Humidity','Wind','Water','Forecast','EnjoySport']"
   ]
  },
  {
   "cell_type": "code",
   "execution_count": 4,
   "metadata": {},
   "outputs": [
    {
     "data": {
      "text/html": [
       "<div>\n",
       "<style scoped>\n",
       "    .dataframe tbody tr th:only-of-type {\n",
       "        vertical-align: middle;\n",
       "    }\n",
       "\n",
       "    .dataframe tbody tr th {\n",
       "        vertical-align: top;\n",
       "    }\n",
       "\n",
       "    .dataframe thead th {\n",
       "        text-align: right;\n",
       "    }\n",
       "</style>\n",
       "<table border=\"1\" class=\"dataframe\">\n",
       "  <thead>\n",
       "    <tr style=\"text-align: right;\">\n",
       "      <th></th>\n",
       "      <th>Sky</th>\n",
       "      <th>AirTemp</th>\n",
       "      <th>Humidity</th>\n",
       "      <th>Wind</th>\n",
       "      <th>Water</th>\n",
       "      <th>Forecast</th>\n",
       "      <th>EnjoySport</th>\n",
       "    </tr>\n",
       "  </thead>\n",
       "  <tbody>\n",
       "    <tr>\n",
       "      <th>0</th>\n",
       "      <td>Sunny</td>\n",
       "      <td>Warm</td>\n",
       "      <td>Normal</td>\n",
       "      <td>Strong</td>\n",
       "      <td>Warm</td>\n",
       "      <td>Same</td>\n",
       "      <td>1</td>\n",
       "    </tr>\n",
       "    <tr>\n",
       "      <th>1</th>\n",
       "      <td>Sunny</td>\n",
       "      <td>Warm</td>\n",
       "      <td>High</td>\n",
       "      <td>Strong</td>\n",
       "      <td>Warm</td>\n",
       "      <td>Same</td>\n",
       "      <td>1</td>\n",
       "    </tr>\n",
       "    <tr>\n",
       "      <th>2</th>\n",
       "      <td>Rainy</td>\n",
       "      <td>Cold</td>\n",
       "      <td>High</td>\n",
       "      <td>Strong</td>\n",
       "      <td>Warm</td>\n",
       "      <td>Change</td>\n",
       "      <td>0</td>\n",
       "    </tr>\n",
       "    <tr>\n",
       "      <th>3</th>\n",
       "      <td>Sunny</td>\n",
       "      <td>Warm</td>\n",
       "      <td>High</td>\n",
       "      <td>Strong</td>\n",
       "      <td>Cool</td>\n",
       "      <td>Change</td>\n",
       "      <td>1</td>\n",
       "    </tr>\n",
       "  </tbody>\n",
       "</table>\n",
       "</div>"
      ],
      "text/plain": [
       "     Sky AirTemp Humidity    Wind Water Forecast  EnjoySport\n",
       "0  Sunny    Warm   Normal  Strong  Warm     Same           1\n",
       "1  Sunny    Warm     High  Strong  Warm     Same           1\n",
       "2  Rainy    Cold     High  Strong  Warm   Change           0\n",
       "3  Sunny    Warm     High  Strong  Cool   Change           1"
      ]
     },
     "execution_count": 4,
     "metadata": {},
     "output_type": "execute_result"
    }
   ],
   "source": [
    "df"
   ]
  },
  {
   "cell_type": "code",
   "execution_count": 5,
   "metadata": {},
   "outputs": [
    {
     "data": {
      "text/plain": [
       "dtype('int64')"
      ]
     },
     "execution_count": 5,
     "metadata": {},
     "output_type": "execute_result"
    }
   ],
   "source": [
    "df['EnjoySport'].dtypes"
   ]
  },
  {
   "cell_type": "code",
   "execution_count": 6,
   "metadata": {},
   "outputs": [],
   "source": [
    "def find_s(X,target):\n",
    "    my_hypothesis =None\n",
    "    for idx,val in enumerate(target):\n",
    "        if val==1:\n",
    "            my_hypothesis = X[idx].copy()\n",
    "            break\n",
    "    print('Selected hypothesis from training example:\\t',my_hypothesis)\n",
    "    #we got the hypothesis lets generalize it using other training example\n",
    "    print('Generalizing hypothesis ...')\n",
    "    for idx,val in enumerate(X):\n",
    "        if target[idx]==1:\n",
    "            for i in range(len(my_hypothesis)):\n",
    "                if my_hypothesis[i]!=val[i]:\n",
    "                    my_hypothesis[i]='?'\n",
    "                    \n",
    "    return my_hypothesis\n",
    "        "
   ]
  },
  {
   "cell_type": "code",
   "execution_count": 7,
   "metadata": {
    "scrolled": true
   },
   "outputs": [
    {
     "name": "stdout",
     "output_type": "stream",
     "text": [
      "0    1\n",
      "1    1\n",
      "2    0\n",
      "3    1\n",
      "Name: EnjoySport, dtype: int64 \n",
      "\n",
      "\n",
      "      Sky AirTemp Humidity    Wind Water Forecast\n",
      "0  Sunny    Warm   Normal  Strong  Warm     Same\n",
      "1  Sunny    Warm     High  Strong  Warm     Same\n",
      "2  Rainy    Cold     High  Strong  Warm   Change\n",
      "3  Sunny    Warm     High  Strong  Cool   Change\n"
     ]
    }
   ],
   "source": [
    "target = df['EnjoySport']\n",
    "X = df.drop(['EnjoySport'] , axis=1)\n",
    "print(target,'\\n\\n\\n',X)"
   ]
  },
  {
   "cell_type": "code",
   "execution_count": 8,
   "metadata": {},
   "outputs": [
    {
     "name": "stdout",
     "output_type": "stream",
     "text": [
      "[['Sunny' 'Warm' 'Normal' 'Strong' 'Warm' 'Same']\n",
      " ['Sunny' 'Warm' 'High' 'Strong' 'Warm' 'Same']\n",
      " ['Rainy' 'Cold' 'High' 'Strong' 'Warm' 'Change']\n",
      " ['Sunny' 'Warm' 'High' 'Strong' 'Cool' 'Change']] [1 1 0 1]\n"
     ]
    }
   ],
   "source": [
    "Xarr = np.array(X)\n",
    "Yarr = np.array(target)\n",
    "print(Xarr,Yarr)"
   ]
  },
  {
   "cell_type": "code",
   "execution_count": 9,
   "metadata": {},
   "outputs": [
    {
     "name": "stdout",
     "output_type": "stream",
     "text": [
      "Selected hypothesis from training example:\t ['Sunny' 'Warm' 'Normal' 'Strong' 'Warm' 'Same']\n",
      "Generalizing hypothesis ...\n"
     ]
    },
    {
     "data": {
      "text/plain": [
       "array(['Sunny', 'Warm', '?', 'Strong', '?', '?'], dtype=object)"
      ]
     },
     "execution_count": 9,
     "metadata": {},
     "output_type": "execute_result"
    }
   ],
   "source": [
    "findS_hypothesis = find_s(X.values,target.values)\n",
    "findS_hypothesis"
   ]
  },
  {
   "cell_type": "code",
   "execution_count": 10,
   "metadata": {},
   "outputs": [
    {
     "name": "stdout",
     "output_type": "stream",
     "text": [
      "   'Sky' 'AirTemp' 'Humidity'  'Wind' 'Water' 'Forecast'  'EnjoySport'\n",
      "0  Sunny      Warm     Normal  Strong    Cool     Change             1\n"
     ]
    }
   ],
   "source": [
    "test_data = '''\\\n",
    "'Sky','AirTemp','Humidity','Wind','Water','Forecast','EnjoySport'\n",
    "Sunny,Warm,Normal,Strong,Cool,Change,1\n",
    "'''\n",
    "test_df = (pd.read_csv(StringIO(test_data)))\n",
    "print(test_df)\n"
   ]
  },
  {
   "cell_type": "code",
   "execution_count": 11,
   "metadata": {},
   "outputs": [],
   "source": [
    "x_test = np.array(['Sunny','Warm','Normal','Strong','Cool','Change'])"
   ]
  },
  {
   "cell_type": "code",
   "execution_count": 12,
   "metadata": {},
   "outputs": [],
   "source": [
    "def predict(x , hypothesis):\n",
    "    count_ = 0\n",
    "    for i in range(len(hypothesis)):\n",
    "        if x[i]==hypothesis[i]:\n",
    "            count_ += 1\n",
    "    ratio_ = count_/len(hypothesis)\n",
    "    if ratio_ >=0.5 :\n",
    "        return 1\n",
    "    else :\n",
    "        return 0"
   ]
  },
  {
   "cell_type": "code",
   "execution_count": 13,
   "metadata": {},
   "outputs": [
    {
     "data": {
      "text/plain": [
       "1"
      ]
     },
     "execution_count": 13,
     "metadata": {},
     "output_type": "execute_result"
    }
   ],
   "source": [
    "predict(x_test,findS_hypothesis)"
   ]
  },
  {
   "cell_type": "code",
   "execution_count": null,
   "metadata": {},
   "outputs": [],
   "source": []
  }
 ],
 "metadata": {
  "kernelspec": {
   "display_name": "Python 3",
   "language": "python",
   "name": "python3"
  },
  "language_info": {
   "codemirror_mode": {
    "name": "ipython",
    "version": 3
   },
   "file_extension": ".py",
   "mimetype": "text/x-python",
   "name": "python",
   "nbconvert_exporter": "python",
   "pygments_lexer": "ipython3",
   "version": "3.8.3"
  }
 },
 "nbformat": 4,
 "nbformat_minor": 4
}
