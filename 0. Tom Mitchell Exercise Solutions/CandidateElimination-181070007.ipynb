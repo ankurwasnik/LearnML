{
 "cells": [
  {
   "cell_type": "markdown",
   "metadata": {},
   "source": [
    "# CANDIDATE ELIMINATION ALGORITHM\n"
   ]
  },
  {
   "cell_type": "code",
   "execution_count": 1,
   "metadata": {},
   "outputs": [],
   "source": [
    "import numpy as np\n",
    "import pandas as pd"
   ]
  },
  {
   "cell_type": "code",
   "execution_count": 2,
   "metadata": {},
   "outputs": [
    {
     "name": "stdout",
     "output_type": "stream",
     "text": [
      "   Survived  Pclass                                               Name  \\\n",
      "0         0       3                             Mr. Owen Harris Braund   \n",
      "1         1       1  Mrs. John Bradley (Florence Briggs Thayer) Cum...   \n",
      "2         1       3                              Miss. Laina Heikkinen   \n",
      "3         1       1        Mrs. Jacques Heath (Lily May Peel) Futrelle   \n",
      "4         0       3                            Mr. William Henry Allen   \n",
      "\n",
      "      Sex   Age  Siblings/Spouses Aboard  Parents/Children Aboard     Fare  \n",
      "0    male  22.0                        1                        0   7.2500  \n",
      "1  female  38.0                        1                        0  71.2833  \n",
      "2  female  26.0                        0                        0   7.9250  \n",
      "3  female  35.0                        1                        0  53.1000  \n",
      "4    male  35.0                        0                        0   8.0500  \n"
     ]
    }
   ],
   "source": [
    "data_link = './titanic.csv'\n",
    "raw_tdf   = pd.read_csv(data_link)\n",
    "print(raw_tdf.head())"
   ]
  },
  {
   "cell_type": "code",
   "execution_count": 3,
   "metadata": {
    "scrolled": false
   },
   "outputs": [
    {
     "name": "stdout",
     "output_type": "stream",
     "text": [
      "Index(['Survived', 'Pclass', 'Name', 'Sex', 'Age', 'Siblings/Spouses Aboard',\n",
      "       'Parents/Children Aboard', 'Fare'],\n",
      "      dtype='object')\n"
     ]
    }
   ],
   "source": [
    "print(raw_tdf.columns)"
   ]
  },
  {
   "cell_type": "code",
   "execution_count": 4,
   "metadata": {},
   "outputs": [],
   "source": [
    "def encode_age(agedf):\n",
    "    new_age=[]\n",
    "    for i in agedf :\n",
    "        if i<=18 :\n",
    "            new_age.append(0)\n",
    "            continue\n",
    "        elif i>18 and i<=50 :\n",
    "            new_age.append(1)\n",
    "            continue\n",
    "        else :\n",
    "            new_age.append(2)\n",
    "    return new_age"
   ]
  },
  {
   "cell_type": "code",
   "execution_count": 5,
   "metadata": {
    "scrolled": true
   },
   "outputs": [
    {
     "name": "stdout",
     "output_type": "stream",
     "text": [
      "0      1\n",
      "1      1\n",
      "2      1\n",
      "3      1\n",
      "4      1\n",
      "      ..\n",
      "882    1\n",
      "883    1\n",
      "884    0\n",
      "885    1\n",
      "886    1\n",
      "Name: Age, Length: 887, dtype: int64\n"
     ]
    }
   ],
   "source": [
    "raw_tdf['Age']=pd.Series(encode_age(raw_tdf['Age']))\n",
    "print(raw_tdf['Age'])"
   ]
  },
  {
   "cell_type": "code",
   "execution_count": 6,
   "metadata": {},
   "outputs": [
    {
     "data": {
      "text/html": [
       "<div>\n",
       "<style scoped>\n",
       "    .dataframe tbody tr th:only-of-type {\n",
       "        vertical-align: middle;\n",
       "    }\n",
       "\n",
       "    .dataframe tbody tr th {\n",
       "        vertical-align: top;\n",
       "    }\n",
       "\n",
       "    .dataframe thead th {\n",
       "        text-align: right;\n",
       "    }\n",
       "</style>\n",
       "<table border=\"1\" class=\"dataframe\">\n",
       "  <thead>\n",
       "    <tr style=\"text-align: right;\">\n",
       "      <th></th>\n",
       "      <th>Survived</th>\n",
       "      <th>Pclass</th>\n",
       "      <th>Sex</th>\n",
       "      <th>Age</th>\n",
       "      <th>Siblings/Spouses Aboard</th>\n",
       "      <th>Parents/Children Aboard</th>\n",
       "    </tr>\n",
       "  </thead>\n",
       "  <tbody>\n",
       "    <tr>\n",
       "      <th>0</th>\n",
       "      <td>0</td>\n",
       "      <td>3</td>\n",
       "      <td>male</td>\n",
       "      <td>1</td>\n",
       "      <td>1</td>\n",
       "      <td>0</td>\n",
       "    </tr>\n",
       "    <tr>\n",
       "      <th>1</th>\n",
       "      <td>1</td>\n",
       "      <td>1</td>\n",
       "      <td>female</td>\n",
       "      <td>1</td>\n",
       "      <td>1</td>\n",
       "      <td>0</td>\n",
       "    </tr>\n",
       "    <tr>\n",
       "      <th>2</th>\n",
       "      <td>1</td>\n",
       "      <td>3</td>\n",
       "      <td>female</td>\n",
       "      <td>1</td>\n",
       "      <td>0</td>\n",
       "      <td>0</td>\n",
       "    </tr>\n",
       "    <tr>\n",
       "      <th>3</th>\n",
       "      <td>1</td>\n",
       "      <td>1</td>\n",
       "      <td>female</td>\n",
       "      <td>1</td>\n",
       "      <td>1</td>\n",
       "      <td>0</td>\n",
       "    </tr>\n",
       "    <tr>\n",
       "      <th>4</th>\n",
       "      <td>0</td>\n",
       "      <td>3</td>\n",
       "      <td>male</td>\n",
       "      <td>1</td>\n",
       "      <td>0</td>\n",
       "      <td>0</td>\n",
       "    </tr>\n",
       "    <tr>\n",
       "      <th>...</th>\n",
       "      <td>...</td>\n",
       "      <td>...</td>\n",
       "      <td>...</td>\n",
       "      <td>...</td>\n",
       "      <td>...</td>\n",
       "      <td>...</td>\n",
       "    </tr>\n",
       "    <tr>\n",
       "      <th>882</th>\n",
       "      <td>0</td>\n",
       "      <td>2</td>\n",
       "      <td>male</td>\n",
       "      <td>1</td>\n",
       "      <td>0</td>\n",
       "      <td>0</td>\n",
       "    </tr>\n",
       "    <tr>\n",
       "      <th>883</th>\n",
       "      <td>1</td>\n",
       "      <td>1</td>\n",
       "      <td>female</td>\n",
       "      <td>1</td>\n",
       "      <td>0</td>\n",
       "      <td>0</td>\n",
       "    </tr>\n",
       "    <tr>\n",
       "      <th>884</th>\n",
       "      <td>0</td>\n",
       "      <td>3</td>\n",
       "      <td>female</td>\n",
       "      <td>0</td>\n",
       "      <td>1</td>\n",
       "      <td>2</td>\n",
       "    </tr>\n",
       "    <tr>\n",
       "      <th>885</th>\n",
       "      <td>1</td>\n",
       "      <td>1</td>\n",
       "      <td>male</td>\n",
       "      <td>1</td>\n",
       "      <td>0</td>\n",
       "      <td>0</td>\n",
       "    </tr>\n",
       "    <tr>\n",
       "      <th>886</th>\n",
       "      <td>0</td>\n",
       "      <td>3</td>\n",
       "      <td>male</td>\n",
       "      <td>1</td>\n",
       "      <td>0</td>\n",
       "      <td>0</td>\n",
       "    </tr>\n",
       "  </tbody>\n",
       "</table>\n",
       "<p>887 rows × 6 columns</p>\n",
       "</div>"
      ],
      "text/plain": [
       "     Survived  Pclass     Sex  Age  Siblings/Spouses Aboard  \\\n",
       "0           0       3    male    1                        1   \n",
       "1           1       1  female    1                        1   \n",
       "2           1       3  female    1                        0   \n",
       "3           1       1  female    1                        1   \n",
       "4           0       3    male    1                        0   \n",
       "..        ...     ...     ...  ...                      ...   \n",
       "882         0       2    male    1                        0   \n",
       "883         1       1  female    1                        0   \n",
       "884         0       3  female    0                        1   \n",
       "885         1       1    male    1                        0   \n",
       "886         0       3    male    1                        0   \n",
       "\n",
       "     Parents/Children Aboard  \n",
       "0                          0  \n",
       "1                          0  \n",
       "2                          0  \n",
       "3                          0  \n",
       "4                          0  \n",
       "..                       ...  \n",
       "882                        0  \n",
       "883                        0  \n",
       "884                        2  \n",
       "885                        0  \n",
       "886                        0  \n",
       "\n",
       "[887 rows x 6 columns]"
      ]
     },
     "execution_count": 6,
     "metadata": {},
     "output_type": "execute_result"
    }
   ],
   "source": [
    "#drop  column\n",
    "raw_tdf=raw_tdf.drop(['Name','Fare'] , axis=1)\n",
    "raw_tdf"
   ]
  },
  {
   "cell_type": "code",
   "execution_count": 7,
   "metadata": {},
   "outputs": [
    {
     "name": "stdout",
     "output_type": "stream",
     "text": [
      "     Survived  Pclass  Sex  Age  Siblings/Spouses Aboard  \\\n",
      "0           0       3    0    1                        1   \n",
      "1           1       1    1    1                        1   \n",
      "2           1       3    1    1                        0   \n",
      "3           1       1    1    1                        1   \n",
      "4           0       3    0    1                        0   \n",
      "..        ...     ...  ...  ...                      ...   \n",
      "882         0       2    0    1                        0   \n",
      "883         1       1    1    1                        0   \n",
      "884         0       3    1    0                        1   \n",
      "885         1       1    0    1                        0   \n",
      "886         0       3    0    1                        0   \n",
      "\n",
      "     Parents/Children Aboard  \n",
      "0                          0  \n",
      "1                          0  \n",
      "2                          0  \n",
      "3                          0  \n",
      "4                          0  \n",
      "..                       ...  \n",
      "882                        0  \n",
      "883                        0  \n",
      "884                        2  \n",
      "885                        0  \n",
      "886                        0  \n",
      "\n",
      "[887 rows x 6 columns]\n"
     ]
    }
   ],
   "source": [
    "#mapping sex column \n",
    "''' male->0 female->1'''\n",
    "mapping_df_sex = {'male':0 , 'female':1}\n",
    "raw_tdf['Sex']= raw_tdf['Sex'].map(mapping_df_sex)\n",
    "print(raw_tdf)"
   ]
  },
  {
   "cell_type": "code",
   "execution_count": 24,
   "metadata": {},
   "outputs": [
    {
     "name": "stdout",
     "output_type": "stream",
     "text": [
      "     Survived  Pclass  Sex  Age  Siblings/Spouses Aboard  \\\n",
      "110         0       3    1    0                        1   \n",
      "111         0       3    0    1                        0   \n",
      "112         0       3    1    1                        1   \n",
      "113         0       3    1    0                        0   \n",
      "114         0       3    0    1                        0   \n",
      "115         0       3    0    2                        0   \n",
      "116         0       2    0    1                        1   \n",
      "117         0       1    0    1                        0   \n",
      "118         0       3    1    0                        4   \n",
      "119         0       2    0    1                        2   \n",
      "120         0       3    0    1                        0   \n",
      "121         0       2    0    1                        1   \n",
      "122         1       2    1    1                        0   \n",
      "123         0       1    0    2                        0   \n",
      "124         1       3    0    0                        1   \n",
      "\n",
      "     Parents/Children Aboard  \n",
      "110                        0  \n",
      "111                        0  \n",
      "112                        0  \n",
      "113                        0  \n",
      "114                        0  \n",
      "115                        0  \n",
      "116                        0  \n",
      "117                        1  \n",
      "118                        2  \n",
      "119                        0  \n",
      "120                        0  \n",
      "121                        0  \n",
      "122                        0  \n",
      "123                        1  \n",
      "124                        0  \n"
     ]
    }
   ],
   "source": [
    "training_data = raw_tdf.iloc[110:125 ,:]\n",
    "print(training_data)"
   ]
  },
  {
   "cell_type": "code",
   "execution_count": 25,
   "metadata": {
    "scrolled": true
   },
   "outputs": [
    {
     "data": {
      "text/html": [
       "<div>\n",
       "<style scoped>\n",
       "    .dataframe tbody tr th:only-of-type {\n",
       "        vertical-align: middle;\n",
       "    }\n",
       "\n",
       "    .dataframe tbody tr th {\n",
       "        vertical-align: top;\n",
       "    }\n",
       "\n",
       "    .dataframe thead th {\n",
       "        text-align: right;\n",
       "    }\n",
       "</style>\n",
       "<table border=\"1\" class=\"dataframe\">\n",
       "  <thead>\n",
       "    <tr style=\"text-align: right;\">\n",
       "      <th></th>\n",
       "      <th>Survived</th>\n",
       "      <th>Pclass</th>\n",
       "      <th>Sex</th>\n",
       "      <th>Age</th>\n",
       "      <th>Siblings/Spouses Aboard</th>\n",
       "      <th>Parents/Children Aboard</th>\n",
       "    </tr>\n",
       "  </thead>\n",
       "  <tbody>\n",
       "    <tr>\n",
       "      <th>5</th>\n",
       "      <td>0</td>\n",
       "      <td>3</td>\n",
       "      <td>0</td>\n",
       "      <td>1</td>\n",
       "      <td>0</td>\n",
       "      <td>0</td>\n",
       "    </tr>\n",
       "    <tr>\n",
       "      <th>6</th>\n",
       "      <td>0</td>\n",
       "      <td>1</td>\n",
       "      <td>0</td>\n",
       "      <td>2</td>\n",
       "      <td>0</td>\n",
       "      <td>0</td>\n",
       "    </tr>\n",
       "    <tr>\n",
       "      <th>7</th>\n",
       "      <td>0</td>\n",
       "      <td>3</td>\n",
       "      <td>0</td>\n",
       "      <td>0</td>\n",
       "      <td>3</td>\n",
       "      <td>1</td>\n",
       "    </tr>\n",
       "    <tr>\n",
       "      <th>8</th>\n",
       "      <td>1</td>\n",
       "      <td>3</td>\n",
       "      <td>1</td>\n",
       "      <td>1</td>\n",
       "      <td>0</td>\n",
       "      <td>2</td>\n",
       "    </tr>\n",
       "    <tr>\n",
       "      <th>9</th>\n",
       "      <td>1</td>\n",
       "      <td>2</td>\n",
       "      <td>1</td>\n",
       "      <td>0</td>\n",
       "      <td>1</td>\n",
       "      <td>0</td>\n",
       "    </tr>\n",
       "  </tbody>\n",
       "</table>\n",
       "</div>"
      ],
      "text/plain": [
       "   Survived  Pclass  Sex  Age  Siblings/Spouses Aboard  \\\n",
       "5         0       3    0    1                        0   \n",
       "6         0       1    0    2                        0   \n",
       "7         0       3    0    0                        3   \n",
       "8         1       3    1    1                        0   \n",
       "9         1       2    1    0                        1   \n",
       "\n",
       "   Parents/Children Aboard  \n",
       "5                        0  \n",
       "6                        0  \n",
       "7                        1  \n",
       "8                        2  \n",
       "9                        0  "
      ]
     },
     "execution_count": 25,
     "metadata": {},
     "output_type": "execute_result"
    }
   ],
   "source": [
    "testing_data = raw_tdf.iloc[5:10 , :]\n",
    "testing_data"
   ]
  },
  {
   "cell_type": "code",
   "execution_count": 26,
   "metadata": {},
   "outputs": [
    {
     "data": {
      "text/plain": [
       "5    0\n",
       "6    0\n",
       "7    0\n",
       "8    1\n",
       "9    1\n",
       "Name: Survived, dtype: int64"
      ]
     },
     "execution_count": 26,
     "metadata": {},
     "output_type": "execute_result"
    }
   ],
   "source": [
    "testing_true_values = testing_data['Survived']\n",
    "testing_true_values"
   ]
  },
  {
   "cell_type": "code",
   "execution_count": 27,
   "metadata": {},
   "outputs": [
    {
     "data": {
      "text/html": [
       "<div>\n",
       "<style scoped>\n",
       "    .dataframe tbody tr th:only-of-type {\n",
       "        vertical-align: middle;\n",
       "    }\n",
       "\n",
       "    .dataframe tbody tr th {\n",
       "        vertical-align: top;\n",
       "    }\n",
       "\n",
       "    .dataframe thead th {\n",
       "        text-align: right;\n",
       "    }\n",
       "</style>\n",
       "<table border=\"1\" class=\"dataframe\">\n",
       "  <thead>\n",
       "    <tr style=\"text-align: right;\">\n",
       "      <th></th>\n",
       "      <th>Pclass</th>\n",
       "      <th>Sex</th>\n",
       "      <th>Age</th>\n",
       "      <th>Siblings/Spouses Aboard</th>\n",
       "      <th>Parents/Children Aboard</th>\n",
       "    </tr>\n",
       "  </thead>\n",
       "  <tbody>\n",
       "    <tr>\n",
       "      <th>5</th>\n",
       "      <td>3</td>\n",
       "      <td>0</td>\n",
       "      <td>1</td>\n",
       "      <td>0</td>\n",
       "      <td>0</td>\n",
       "    </tr>\n",
       "    <tr>\n",
       "      <th>6</th>\n",
       "      <td>1</td>\n",
       "      <td>0</td>\n",
       "      <td>2</td>\n",
       "      <td>0</td>\n",
       "      <td>0</td>\n",
       "    </tr>\n",
       "    <tr>\n",
       "      <th>7</th>\n",
       "      <td>3</td>\n",
       "      <td>0</td>\n",
       "      <td>0</td>\n",
       "      <td>3</td>\n",
       "      <td>1</td>\n",
       "    </tr>\n",
       "    <tr>\n",
       "      <th>8</th>\n",
       "      <td>3</td>\n",
       "      <td>1</td>\n",
       "      <td>1</td>\n",
       "      <td>0</td>\n",
       "      <td>2</td>\n",
       "    </tr>\n",
       "    <tr>\n",
       "      <th>9</th>\n",
       "      <td>2</td>\n",
       "      <td>1</td>\n",
       "      <td>0</td>\n",
       "      <td>1</td>\n",
       "      <td>0</td>\n",
       "    </tr>\n",
       "  </tbody>\n",
       "</table>\n",
       "</div>"
      ],
      "text/plain": [
       "   Pclass  Sex  Age  Siblings/Spouses Aboard  Parents/Children Aboard\n",
       "5       3    0    1                        0                        0\n",
       "6       1    0    2                        0                        0\n",
       "7       3    0    0                        3                        1\n",
       "8       3    1    1                        0                        2\n",
       "9       2    1    0                        1                        0"
      ]
     },
     "execution_count": 27,
     "metadata": {},
     "output_type": "execute_result"
    }
   ],
   "source": [
    "testing_xis = testing_data.drop(['Survived'] , axis=True)\n",
    "testing_xis"
   ]
  },
  {
   "cell_type": "code",
   "execution_count": 28,
   "metadata": {},
   "outputs": [
    {
     "name": "stdout",
     "output_type": "stream",
     "text": [
      "     Pclass  Sex  Age  Siblings/Spouses Aboard  Parents/Children Aboard\n",
      "110       3    1    0                        1                        0\n",
      "111       3    0    1                        0                        0\n",
      "112       3    1    1                        1                        0\n",
      "113       3    1    0                        0                        0\n",
      "114       3    0    1                        0                        0\n",
      "115       3    0    2                        0                        0\n",
      "116       2    0    1                        1                        0\n",
      "117       1    0    1                        0                        1\n",
      "118       3    1    0                        4                        2\n",
      "119       2    0    1                        2                        0\n",
      "120       3    0    1                        0                        0\n",
      "121       2    0    1                        1                        0\n",
      "122       2    1    1                        0                        0\n",
      "123       1    0    2                        0                        1\n",
      "124       3    0    0                        1                        0\n"
     ]
    }
   ],
   "source": [
    "training_features = training_data.iloc[:,1:]\n",
    "print(training_features)"
   ]
  },
  {
   "cell_type": "code",
   "execution_count": 29,
   "metadata": {
    "scrolled": true
   },
   "outputs": [
    {
     "name": "stdout",
     "output_type": "stream",
     "text": [
      "110    0\n",
      "111    0\n",
      "112    0\n",
      "113    0\n",
      "114    0\n",
      "115    0\n",
      "116    0\n",
      "117    0\n",
      "118    0\n",
      "119    0\n",
      "120    0\n",
      "121    0\n",
      "122    1\n",
      "123    0\n",
      "124    1\n",
      "Name: Survived, dtype: int64\n"
     ]
    }
   ],
   "source": [
    "training_target = training_data['Survived']\n",
    "print(training_target)"
   ]
  },
  {
   "cell_type": "code",
   "execution_count": 30,
   "metadata": {},
   "outputs": [],
   "source": [
    "def candidate_elimination(features , targets):\n",
    "    specific_h =None\n",
    "    for idx,val in enumerate(targets):\n",
    "        if val==1:\n",
    "            specific_h = features[idx]\n",
    "            break\n",
    "    general_h = [ [-1 for i in range(len(specific_h)) ] for j in range(len(specific_h)) ]\n",
    "    print('Specific_hypothesis',specific_h , end=\"\\n\\n\")\n",
    "    print('General_hypothesis',general_h , end=\"\\n\\n\")\n",
    "    \n",
    "    #training \n",
    "    for idx , val in enumerate(features):\n",
    "        if targets[idx]==1:\n",
    "            for j in range(len(specific_h)):\n",
    "                if specific_h[j]==val[j]:\n",
    "                    #do nothing \n",
    "                    pass\n",
    "                else :\n",
    "                    #generalize \n",
    "                    #find-s algo basically\n",
    "                    specific_h[j]=-1\n",
    "                    general_h[j][j]=-1\n",
    "                    \n",
    "        if targets[idx]==0 : #negative example found\n",
    "            for i in range(len(specific_h)):\n",
    "                if val[i]==specific_h[i]:\n",
    "                    #generalize\n",
    "                    general_h[i][i]=-1\n",
    "                else :\n",
    "                    #specific update in general hypothesis\n",
    "                    general_h[i][i]=specific_h[i]\n",
    "            \n",
    "    return specific_h , general_h"
   ]
  },
  {
   "cell_type": "code",
   "execution_count": 31,
   "metadata": {},
   "outputs": [],
   "source": [
    "def train(x,y):\n",
    "    features = np.array(x)\n",
    "    targets = np.array(y)\n",
    "    specific_h , general_h = candidate_elimination(features,targets)\n",
    "    \n",
    "    quest_list = [-1 for i in range(len(general_h))]\n",
    "    indx = [i for i ,val in enumerate(general_h) if val==quest_list ]\n",
    "    for i in indx :\n",
    "        general_h.remove(quest_list)\n",
    "    return specific_h , general_h"
   ]
  },
  {
   "cell_type": "code",
   "execution_count": 32,
   "metadata": {},
   "outputs": [
    {
     "name": "stdout",
     "output_type": "stream",
     "text": [
      "Specific_hypothesis [2 1 1 0 0]\n",
      "\n",
      "General_hypothesis [['?', '?', '?', '?', '?'], ['?', '?', '?', '?', '?'], ['?', '?', '?', '?', '?'], ['?', '?', '?', '?', '?'], ['?', '?', '?', '?', '?']]\n",
      "\n",
      "After training \n",
      "\n",
      "\n",
      "\n",
      "Specific Hypothesis :\t [-1 -1 -1 -1  0]\n",
      "General Hypothesis :\t [[-1, '?', '?', '?', '?'], ['?', -1, '?', '?', '?'], ['?', '?', -1, '?', '?'], ['?', '?', '?', -1, '?'], ['?', '?', '?', '?', 0]]\n"
     ]
    }
   ],
   "source": [
    "specific_h , general_h = train(training_features,training_target)\n",
    "print('After training \\n\\n\\n')\n",
    "print('Specific Hypothesis :\\t',specific_h)\n",
    "print('General Hypothesis :\\t',general_h)\n"
   ]
  },
  {
   "cell_type": "markdown",
   "metadata": {},
   "source": [
    "<strong>Note: -1 means '?'"
   ]
  },
  {
   "cell_type": "markdown",
   "metadata": {},
   "source": [
    "# Tesing time"
   ]
  },
  {
   "cell_type": "code",
   "execution_count": 20,
   "metadata": {},
   "outputs": [],
   "source": [
    "def cealgo_match(xi ,hypothesis) :\n",
    "    count=0\n",
    "    lhypo = len(hypothesis)\n",
    "    for i in range(lhypo):\n",
    "        if xi[i]==hypothesis[i]:\n",
    "            count+=1\n",
    "    return (count/lhypo)"
   ]
  },
  {
   "cell_type": "code",
   "execution_count": 21,
   "metadata": {},
   "outputs": [],
   "source": [
    "def predict(testing_xi , true_labels , s_hypothesis):\n",
    "    score = 0\n",
    "    xlen = len(testing_xi)\n",
    "    testing_xi = np.array(testing_xi)\n",
    "    true_lables = np.array(true_labels)\n",
    "    for i in range(xlen):\n",
    "        score+= cealgo_match(testing_xi[i] , s_hypothesis )\n",
    "    return score/xlen"
   ]
  },
  {
   "cell_type": "code",
   "execution_count": 22,
   "metadata": {},
   "outputs": [],
   "source": [
    "accuracy = predict(testing_xis,testing_true_values , specific_h)"
   ]
  },
  {
   "cell_type": "code",
   "execution_count": 23,
   "metadata": {},
   "outputs": [
    {
     "name": "stdout",
     "output_type": "stream",
     "text": [
      "Accuracy = 8%\n"
     ]
    }
   ],
   "source": [
    "print('Accuracy = {}%'.format(int(accuracy*100)))"
   ]
  },
  {
   "cell_type": "code",
   "execution_count": null,
   "metadata": {},
   "outputs": [],
   "source": []
  }
 ],
 "metadata": {
  "kernelspec": {
   "display_name": "Python 3",
   "language": "python",
   "name": "python3"
  },
  "language_info": {
   "codemirror_mode": {
    "name": "ipython",
    "version": 3
   },
   "file_extension": ".py",
   "mimetype": "text/x-python",
   "name": "python",
   "nbconvert_exporter": "python",
   "pygments_lexer": "ipython3",
   "version": "3.8.3"
  }
 },
 "nbformat": 4,
 "nbformat_minor": 4
}
