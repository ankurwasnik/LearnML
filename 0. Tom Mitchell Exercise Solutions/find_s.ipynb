{
 "cells": [
  {
   "cell_type": "code",
   "execution_count": 1,
   "metadata": {},
   "outputs": [],
   "source": [
    "import os\n",
    "import numpy as np\n",
    "import pandas as pd"
   ]
  },
  {
   "cell_type": "code",
   "execution_count": 2,
   "metadata": {},
   "outputs": [
    {
     "name": "stdout",
     "output_type": "stream",
     "text": [
      "/home/ankur/Documents/LearnML\n"
     ]
    }
   ],
   "source": [
    "current_dir = os.getcwd()\n",
    "print(current_dir)"
   ]
  },
  {
   "cell_type": "code",
   "execution_count": 3,
   "metadata": {},
   "outputs": [
    {
     "name": "stdout",
     "output_type": "stream",
     "text": [
      "/home/ankur/Documents/LearnML/titanic.csv\n",
      "   Survived  Pclass                                               Name  \\\n",
      "0         0       3                             Mr. Owen Harris Braund   \n",
      "1         1       1  Mrs. John Bradley (Florence Briggs Thayer) Cum...   \n",
      "2         1       3                              Miss. Laina Heikkinen   \n",
      "3         1       1        Mrs. Jacques Heath (Lily May Peel) Futrelle   \n",
      "4         0       3                            Mr. William Henry Allen   \n",
      "\n",
      "      Sex   Age  Siblings/Spouses Aboard  Parents/Children Aboard     Fare  \n",
      "0    male  22.0                        1                        0   7.2500  \n",
      "1  female  38.0                        1                        0  71.2833  \n",
      "2  female  26.0                        0                        0   7.9250  \n",
      "3  female  35.0                        1                        0  53.1000  \n",
      "4    male  35.0                        0                        0   8.0500  \n"
     ]
    }
   ],
   "source": [
    "csv_dir = os.path.join(current_dir,'titanic.csv')\n",
    "print(csv_dir)\n",
    "df = pd.read_csv(csv_dir)\n",
    "print(df.head())"
   ]
  },
  {
   "cell_type": "code",
   "execution_count": 4,
   "metadata": {},
   "outputs": [
    {
     "name": "stdout",
     "output_type": "stream",
     "text": [
      "Summary Description\n",
      "          Survived      Pclass         Age  Siblings/Spouses Aboard  \\\n",
      "count  887.000000  887.000000  887.000000               887.000000   \n",
      "mean     0.385569    2.305524   29.471443                 0.525366   \n",
      "std      0.487004    0.836662   14.121908                 1.104669   \n",
      "min      0.000000    1.000000    0.420000                 0.000000   \n",
      "25%      0.000000    2.000000   20.250000                 0.000000   \n",
      "50%      0.000000    3.000000   28.000000                 0.000000   \n",
      "75%      1.000000    3.000000   38.000000                 1.000000   \n",
      "max      1.000000    3.000000   80.000000                 8.000000   \n",
      "\n",
      "       Parents/Children Aboard       Fare  \n",
      "count               887.000000  887.00000  \n",
      "mean                  0.383315   32.30542  \n",
      "std                   0.807466   49.78204  \n",
      "min                   0.000000    0.00000  \n",
      "25%                   0.000000    7.92500  \n",
      "50%                   0.000000   14.45420  \n",
      "75%                   0.000000   31.13750  \n",
      "max                   6.000000  512.32920  \n"
     ]
    }
   ],
   "source": [
    "dataset = df.copy()\n",
    "print('Summary Description\\n',dataset.describe())"
   ]
  },
  {
   "cell_type": "code",
   "execution_count": 5,
   "metadata": {},
   "outputs": [
    {
     "name": "stdout",
     "output_type": "stream",
     "text": [
      "Survived                     int64\n",
      "Pclass                       int64\n",
      "Name                        object\n",
      "Sex                         object\n",
      "Age                        float64\n",
      "Siblings/Spouses Aboard      int64\n",
      "Parents/Children Aboard      int64\n",
      "Fare                       float64\n",
      "dtype: object\n"
     ]
    }
   ],
   "source": [
    "print(dataset.dtypes)"
   ]
  },
  {
   "cell_type": "code",
   "execution_count": 6,
   "metadata": {
    "scrolled": false
   },
   "outputs": [
    {
     "name": "stdout",
     "output_type": "stream",
     "text": [
      "0    0\n",
      "1    1\n",
      "2    1\n",
      "3    1\n",
      "4    0\n",
      "Name: Survived, dtype: int64\n",
      "\n",
      "\n",
      "\n",
      "Dataset without target\n",
      "    Pclass                                               Name     Sex   Age  \\\n",
      "0       3                             Mr. Owen Harris Braund    male  22.0   \n",
      "1       1  Mrs. John Bradley (Florence Briggs Thayer) Cum...  female  38.0   \n",
      "2       3                              Miss. Laina Heikkinen  female  26.0   \n",
      "3       1        Mrs. Jacques Heath (Lily May Peel) Futrelle  female  35.0   \n",
      "4       3                            Mr. William Henry Allen    male  35.0   \n",
      "\n",
      "   Siblings/Spouses Aboard  Parents/Children Aboard     Fare  \n",
      "0                        1                        0   7.2500  \n",
      "1                        1                        0  71.2833  \n",
      "2                        0                        0   7.9250  \n",
      "3                        1                        0  53.1000  \n",
      "4                        0                        0   8.0500  \n"
     ]
    }
   ],
   "source": [
    "target_ = dataset['Survived']\n",
    "print(target_.head())\n",
    "dataset = dataset.drop(['Survived'] , axis=1)\n",
    "print('\\n\\n\\nDataset without target\\n',dataset.head())"
   ]
  },
  {
   "cell_type": "code",
   "execution_count": 7,
   "metadata": {},
   "outputs": [],
   "source": [
    "features = dataset.copy()"
   ]
  },
  {
   "cell_type": "code",
   "execution_count": 8,
   "metadata": {},
   "outputs": [
    {
     "name": "stdout",
     "output_type": "stream",
     "text": [
      "     Pclass                                               Name     Sex   Age  \\\n",
      "0         3                             Mr. Owen Harris Braund    male  22.0   \n",
      "1         1  Mrs. John Bradley (Florence Briggs Thayer) Cum...  female  38.0   \n",
      "2         3                              Miss. Laina Heikkinen  female  26.0   \n",
      "3         1        Mrs. Jacques Heath (Lily May Peel) Futrelle  female  35.0   \n",
      "4         3                            Mr. William Henry Allen    male  35.0   \n",
      "..      ...                                                ...     ...   ...   \n",
      "882       2                               Rev. Juozas Montvila    male  27.0   \n",
      "883       1                        Miss. Margaret Edith Graham  female  19.0   \n",
      "884       3                     Miss. Catherine Helen Johnston  female   7.0   \n",
      "885       1                               Mr. Karl Howell Behr    male  26.0   \n",
      "886       3                                 Mr. Patrick Dooley    male  32.0   \n",
      "\n",
      "     Siblings/Spouses Aboard  Parents/Children Aboard     Fare  \n",
      "0                          1                        0   7.2500  \n",
      "1                          1                        0  71.2833  \n",
      "2                          0                        0   7.9250  \n",
      "3                          1                        0  53.1000  \n",
      "4                          0                        0   8.0500  \n",
      "..                       ...                      ...      ...  \n",
      "882                        0                        0  13.0000  \n",
      "883                        0                        0  30.0000  \n",
      "884                        1                        2  23.4500  \n",
      "885                        0                        0  30.0000  \n",
      "886                        0                        0   7.7500  \n",
      "\n",
      "[887 rows x 7 columns]\n"
     ]
    }
   ],
   "source": [
    "#converting sex column to label encoder\n",
    "label_encoder = {'male':0 , 'female':1}\n",
    "dataset['Sex'].map(label_encoder)\n",
    "print(dataset)"
   ]
  },
  {
   "cell_type": "code",
   "execution_count": 11,
   "metadata": {},
   "outputs": [
    {
     "name": "stdout",
     "output_type": "stream",
     "text": [
      "   Pclass     Sex   Age  Siblings/Spouses Aboard  Parents/Children Aboard  \\\n",
      "0       3    male  22.0                        1                        0   \n",
      "1       1  female  38.0                        1                        0   \n",
      "2       3  female  26.0                        0                        0   \n",
      "3       1  female  35.0                        1                        0   \n",
      "4       3    male  35.0                        0                        0   \n",
      "\n",
      "      Fare  \n",
      "0   7.2500  \n",
      "1  71.2833  \n",
      "2   7.9250  \n",
      "3  53.1000  \n",
      "4   8.0500  \n"
     ]
    }
   ],
   "source": [
    "#remove name column\n",
    "dataset = dataset.drop(['Name'] , axis=1)\n",
    "print(dataset.head())"
   ]
  },
  {
   "cell_type": "code",
   "execution_count": 13,
   "metadata": {},
   "outputs": [
    {
     "data": {
      "text/plain": [
       "Index(['Pclass', 'Sex', 'Age', 'Siblings/Spouses Aboard',\n",
       "       'Parents/Children Aboard', 'Fare'],\n",
       "      dtype='object')"
      ]
     },
     "execution_count": 13,
     "metadata": {},
     "output_type": "execute_result"
    }
   ],
   "source": [
    "dataset.columns"
   ]
  },
  {
   "cell_type": "code",
   "execution_count": 15,
   "metadata": {},
   "outputs": [
    {
     "name": "stdout",
     "output_type": "stream",
     "text": [
      "   passengerClass  Gender   Age  Siblings  Parents    Price\n",
      "0               3    male  22.0         1        0   7.2500\n",
      "1               1  female  38.0         1        0  71.2833\n",
      "2               3  female  26.0         0        0   7.9250\n",
      "3               1  female  35.0         1        0  53.1000\n",
      "4               3    male  35.0         0        0   8.0500\n"
     ]
    }
   ],
   "source": [
    "columns_renamed = {'Pclass' : 'passengerClass' , \n",
    "                    'Sex' : 'Gender' ,\n",
    "                    'Siblings/Spouses Aboard':'Siblings',\n",
    "                    'Parents/Children Aboard':'Parents',\n",
    "                      'Fare' : 'Price'}\n",
    "dataset.rename(columns=columns_renamed , inplace=True)\n",
    "print(dataset.head())"
   ]
  },
  {
   "cell_type": "code",
   "execution_count": 17,
   "metadata": {},
   "outputs": [
    {
     "name": "stdout",
     "output_type": "stream",
     "text": [
      "887\n"
     ]
    }
   ],
   "source": [
    "#we will take some samples out of titanic data\n",
    "print(len(dataset))"
   ]
  },
  {
   "cell_type": "code",
   "execution_count": 18,
   "metadata": {},
   "outputs": [],
   "source": [
    "size = int(len(dataset)*0.40 )\n",
    "taget_samples = target_[:size]\n",
    "features = dataset[:size]"
   ]
  },
  {
   "cell_type": "code",
   "execution_count": 19,
   "metadata": {},
   "outputs": [
    {
     "name": "stdout",
     "output_type": "stream",
     "text": [
      "     passengerClass  Gender   Age  Siblings  Parents    Price\n",
      "0                 3    male  22.0         1        0   7.2500\n",
      "1                 1  female  38.0         1        0  71.2833\n",
      "2                 3  female  26.0         0        0   7.9250\n",
      "3                 1  female  35.0         1        0  53.1000\n",
      "4                 3    male  35.0         0        0   8.0500\n",
      "..              ...     ...   ...       ...      ...      ...\n",
      "349               1    male  43.0         0        0  35.0000\n",
      "350               3    male  15.0         1        1   7.2292\n",
      "351               3    male  25.0         1        0  17.8000\n",
      "352               3    male  23.0         0        0   7.2250\n",
      "353               3    male  28.0         0        0   9.5000\n",
      "\n",
      "[354 rows x 6 columns]\n"
     ]
    }
   ],
   "source": [
    "print(features)"
   ]
  },
  {
   "cell_type": "code",
   "execution_count": 21,
   "metadata": {},
   "outputs": [
    {
     "name": "stdout",
     "output_type": "stream",
     "text": [
      "0      0\n",
      "1      1\n",
      "2      1\n",
      "3      1\n",
      "4      0\n",
      "      ..\n",
      "349    0\n",
      "350    0\n",
      "351    0\n",
      "352    0\n",
      "353    0\n",
      "Name: Survived, Length: 354, dtype: int64\n"
     ]
    }
   ],
   "source": [
    "print(taget_samples)"
   ]
  },
  {
   "cell_type": "code",
   "execution_count": 25,
   "metadata": {},
   "outputs": [],
   "source": [
    "def train(c,t):\n",
    "    for i, val in enumerate(t):\n",
    "        if val == 1:\n",
    "            specific_hypothesis = c[i].copy()\n",
    "            break\n",
    "             \n",
    "    for i, val in enumerate(c):\n",
    "        if t[i] == 1:\n",
    "            for x in range(len(specific_hypothesis)):\n",
    "                if val[x] != specific_hypothesis[x]:\n",
    "                    specific_hypothesis[x] = '?'\n",
    "                else:\n",
    "                    pass\n",
    "                 \n",
    "    return specific_hypothesis"
   ]
  },
  {
   "cell_type": "code",
   "execution_count": 23,
   "metadata": {},
   "outputs": [
    {
     "name": "stdout",
     "output_type": "stream",
     "text": [
      "[[3 'male' 22.0 1 0 7.25]\n",
      " [1 'female' 38.0 1 0 71.2833]\n",
      " [3 'female' 26.0 0 0 7.925]\n",
      " ...\n",
      " [3 'male' 25.0 1 0 17.8]\n",
      " [3 'male' 23.0 0 0 7.225]\n",
      " [3 'male' 28.0 0 0 9.5]]\n",
      "\n",
      "\n",
      "\n",
      "\n",
      "[0 1 1 1 0 0 0 0 1 1 1 1 0 0 0 1 0 1 0 1 0 1 1 1 0 1 0 0 1 0 0 1 1 0 0 0 1\n",
      " 0 0 1 0 0 1 1 0 0 1 0 0 0 0 1 1 0 1 1 0 1 0 0 1 0 0 0 1 1 0 1 0 0 0 0 0 1\n",
      " 0 0 0 1 1 0 1 1 0 1 1 0 0 1 0 0 0 0 0 0 0 0 1 1 0 0 0 0 0 0 0 1 1 0 1 0 0\n",
      " 0 0 0 0 0 0 0 0 0 0 0 1 0 1 0 1 1 0 0 0 0 1 0 0 1 0 0 0 0 1 1 0 0 0 1 0 0\n",
      " 0 0 1 0 0 0 0 1 0 0 0 0 1 0 0 0 1 1 0 0 0 0 0 1 0 0 0 0 0 0 0 0 0 0 1 1 0\n",
      " 1 1 0 0 1 0 1 1 1 1 0 0 1 0 0 0 0 0 1 0 0 1 1 1 0 1 0 0 0 1 1 0 1 0 1 0 0\n",
      " 0 1 0 1 0 0 0 1 0 0 1 0 0 0 1 0 0 0 1 0 0 0 0 0 1 1 0 0 0 0 0 0 1 1 1 1 1\n",
      " 1 0 0 0 0 0 1 1 1 0 1 1 0 1 1 0 0 0 1 0 0 0 1 0 0 1 0 1 1 1 1 0 0 0 0 0 0\n",
      " 1 1 1 1 0 1 0 1 1 1 0 1 1 1 0 0 0 1 1 0 1 1 0 0 1 1 0 1 0 1 1 1 1 0 0 0 1\n",
      " 0 0 1 1 0 1 1 0 0 0 1 1 1 1 0 0 0 0 0 0 0]\n"
     ]
    }
   ],
   "source": [
    "features_copy = features.copy()\n",
    "features_arr = np.array(features_copy)\n",
    "print(features_arr ,end=\"\\n\\n\\n\\n\\n\")\n",
    "target_arr = np.array(taget_samples)\n",
    "print(target_arr)"
   ]
  },
  {
   "cell_type": "code",
   "execution_count": 26,
   "metadata": {},
   "outputs": [
    {
     "data": {
      "text/plain": [
       "array(['?', '?', '?', '?', '?', '?'], dtype=object)"
      ]
     },
     "execution_count": 26,
     "metadata": {},
     "output_type": "execute_result"
    }
   ],
   "source": [
    "train(features_arr,target_arr)"
   ]
  },
  {
   "cell_type": "code",
   "execution_count": 46,
   "metadata": {},
   "outputs": [
    {
     "data": {
      "text/plain": [
       "354"
      ]
     },
     "execution_count": 46,
     "metadata": {},
     "output_type": "execute_result"
    }
   ],
   "source": [
    "len(features_arr)"
   ]
  },
  {
   "cell_type": "code",
   "execution_count": 54,
   "metadata": {},
   "outputs": [],
   "source": [
    "low_range =2\n",
    "high_range = 6"
   ]
  },
  {
   "cell_type": "code",
   "execution_count": 55,
   "metadata": {},
   "outputs": [
    {
     "data": {
      "text/plain": [
       "array(['?', 'female', '?', '?', 0, '?'], dtype=object)"
      ]
     },
     "execution_count": 55,
     "metadata": {},
     "output_type": "execute_result"
    }
   ],
   "source": [
    "train(features_arr[low_range:high_range] , target_arr[low_range:high_range])"
   ]
  },
  {
   "cell_type": "markdown",
   "metadata": {},
   "source": [
    "#### size = [1,2,3,4,5,6,7,8,9,10]\n",
    "for i in size :\n",
    "    print(i,train(features_arr[:i],target_arr[:i]))"
   ]
  }
 ],
 "metadata": {
  "kernelspec": {
   "display_name": "Python 3",
   "language": "python",
   "name": "python3"
  },
  "language_info": {
   "codemirror_mode": {
    "name": "ipython",
    "version": 3
   },
   "file_extension": ".py",
   "mimetype": "text/x-python",
   "name": "python",
   "nbconvert_exporter": "python",
   "pygments_lexer": "ipython3",
   "version": "3.8.3"
  }
 },
 "nbformat": 4,
 "nbformat_minor": 4
}
