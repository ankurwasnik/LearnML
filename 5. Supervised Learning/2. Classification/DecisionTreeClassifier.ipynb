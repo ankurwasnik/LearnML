{
 "cells": [
  {
   "cell_type": "markdown",
   "metadata": {},
   "source": [
    "Author: Ankur Wasnik<br>\n",
    "Code : Jan251546"
   ]
  },
  {
   "cell_type": "code",
   "execution_count": 1,
   "metadata": {},
   "outputs": [],
   "source": [
    "%config Completer.use_jedi = False"
   ]
  },
  {
   "cell_type": "markdown",
   "metadata": {},
   "source": [
    "# Importing libraries"
   ]
  },
  {
   "cell_type": "code",
   "execution_count": 2,
   "metadata": {},
   "outputs": [],
   "source": [
    "import numpy as np\n",
    "import pandas as pd\n",
    "from sklearn.metrics import accuracy_score\n",
    "from sklearn.tree import DecisionTreeClassifier\n"
   ]
  },
  {
   "cell_type": "markdown",
   "metadata": {},
   "source": [
    "# Reading data ["
   ]
  },
  {
   "cell_type": "code",
   "execution_count": 3,
   "metadata": {},
   "outputs": [
    {
     "name": "stdout",
     "output_type": "stream",
     "text": [
      "   Survived  Pclass                                               Name  \\\n",
      "0         0       3                             Mr. Owen Harris Braund   \n",
      "1         1       1  Mrs. John Bradley (Florence Briggs Thayer) Cum...   \n",
      "2         1       3                              Miss. Laina Heikkinen   \n",
      "3         1       1        Mrs. Jacques Heath (Lily May Peel) Futrelle   \n",
      "4         0       3                            Mr. William Henry Allen   \n",
      "\n",
      "      Sex   Age  Siblings/Spouses Aboard  Parents/Children Aboard     Fare  \n",
      "0    male  22.0                        1                        0   7.2500  \n",
      "1  female  38.0                        1                        0  71.2833  \n",
      "2  female  26.0                        0                        0   7.9250  \n",
      "3  female  35.0                        1                        0  53.1000  \n",
      "4    male  35.0                        0                        0   8.0500  \n"
     ]
    }
   ],
   "source": [
    "raw_titanic = pd.read_csv('./titanic.csv')\n",
    "print(raw_titanic.head())"
   ]
  },
  {
   "cell_type": "code",
   "execution_count": 4,
   "metadata": {},
   "outputs": [
    {
     "name": "stdout",
     "output_type": "stream",
     "text": [
      "Index(['Survived', 'Pclass', 'Name', 'Sex', 'Age', 'Siblings/Spouses Aboard',\n",
      "       'Parents/Children Aboard', 'Fare'],\n",
      "      dtype='object')\n"
     ]
    }
   ],
   "source": [
    "print(raw_titanic.columns)"
   ]
  },
  {
   "cell_type": "code",
   "execution_count": 5,
   "metadata": {
    "scrolled": true
   },
   "outputs": [
    {
     "name": "stdout",
     "output_type": "stream",
     "text": [
      "   Survived  PassengerClass  \\\n",
      "0         0               3   \n",
      "1         1               1   \n",
      "2         1               3   \n",
      "3         1               1   \n",
      "4         0               3   \n",
      "\n",
      "                                                Name  Gender   Age  \\\n",
      "0                             Mr. Owen Harris Braund    male  22.0   \n",
      "1  Mrs. John Bradley (Florence Briggs Thayer) Cum...  female  38.0   \n",
      "2                              Miss. Laina Heikkinen  female  26.0   \n",
      "3        Mrs. Jacques Heath (Lily May Peel) Futrelle  female  35.0   \n",
      "4                            Mr. William Henry Allen    male  35.0   \n",
      "\n",
      "   Siblings_onBoard  Relatives_onBoard     Fare  \n",
      "0                 1                  0   7.2500  \n",
      "1                 1                  0  71.2833  \n",
      "2                 0                  0   7.9250  \n",
      "3                 1                  0  53.1000  \n",
      "4                 0                  0   8.0500  \n"
     ]
    }
   ],
   "source": [
    "new_columns = ['Survived' , 'PassengerClass' ,'Name','Gender','Age','Siblings_onBoard','Relatives_onBoard','Fare']\n",
    "raw_titanic.columns = new_columns\n",
    "print(raw_titanic.head())"
   ]
  },
  {
   "cell_type": "markdown",
   "metadata": {},
   "source": [
    "# Preprocessing Data"
   ]
  },
  {
   "cell_type": "code",
   "execution_count": 6,
   "metadata": {},
   "outputs": [
    {
     "data": {
      "text/plain": [
       "array([[ 1.        , -0.54891936],\n",
       "       [-0.54891936,  1.        ]])"
      ]
     },
     "execution_count": 6,
     "metadata": {},
     "output_type": "execute_result"
    }
   ],
   "source": [
    "np.corrcoef(raw_titanic['PassengerClass'] , raw_titanic['Fare'])"
   ]
  },
  {
   "cell_type": "markdown",
   "metadata": {},
   "source": [
    "Note: -0.5489 is correlation coefficient so , they are correlated in sense that Passenger class 1 have largest fare"
   ]
  },
  {
   "cell_type": "code",
   "execution_count": 7,
   "metadata": {},
   "outputs": [],
   "source": [
    "#dropping Name , Fare \n",
    "df_droppedColumns = raw_titanic.drop(['Name' , 'Fare'],axis=1)"
   ]
  },
  {
   "cell_type": "code",
   "execution_count": 8,
   "metadata": {},
   "outputs": [],
   "source": [
    "def agePreprocessing(df_age):\n",
    "    new_age=[]\n",
    "    for x in df_age:\n",
    "        if x>=0 and x<=18 :\n",
    "            new_age.append(0)\n",
    "            continue\n",
    "        elif x>18 and x<=65 :\n",
    "            new_age.append(1)\n",
    "            continue\n",
    "        elif x>65 :\n",
    "            new_age.append(2)\n",
    "    return pd.Series(new_age)"
   ]
  },
  {
   "cell_type": "code",
   "execution_count": 9,
   "metadata": {},
   "outputs": [
    {
     "name": "stdout",
     "output_type": "stream",
     "text": [
      "0      1\n",
      "1      1\n",
      "2      1\n",
      "3      1\n",
      "4      1\n",
      "      ..\n",
      "882    1\n",
      "883    1\n",
      "884    0\n",
      "885    1\n",
      "886    1\n",
      "Name: Age, Length: 887, dtype: int64\n"
     ]
    }
   ],
   "source": [
    "df_droppedColumns['Age'] = agePreprocessing(df_droppedColumns['Age'])\n",
    "print(df_droppedColumns['Age'])"
   ]
  },
  {
   "cell_type": "markdown",
   "metadata": {},
   "source": [
    "Age Reference :<br>\n",
    "<li>0-> child\n",
    "<li>1-> not elders\n",
    "<li>2-> old aged people\n"
   ]
  },
  {
   "cell_type": "code",
   "execution_count": 10,
   "metadata": {},
   "outputs": [
    {
     "name": "stdout",
     "output_type": "stream",
     "text": [
      "0      0\n",
      "1      1\n",
      "2      1\n",
      "3      1\n",
      "4      0\n",
      "      ..\n",
      "882    0\n",
      "883    1\n",
      "884    1\n",
      "885    0\n",
      "886    0\n",
      "Name: Gender, Length: 887, dtype: int64\n"
     ]
    }
   ],
   "source": [
    "df_droppedColumns['Gender']=df_droppedColumns['Gender'].map({'male':0 , 'female':1})\n",
    "print(df_droppedColumns['Gender'])"
   ]
  },
  {
   "cell_type": "markdown",
   "metadata": {},
   "source": [
    "Note:<br>\n",
    "<li> 0 -> Male\n",
    "<li> 1 -> female"
   ]
  },
  {
   "cell_type": "code",
   "execution_count": 11,
   "metadata": {},
   "outputs": [
    {
     "name": "stdout",
     "output_type": "stream",
     "text": [
      "     Survived  PassengerClass  Gender  Age  Siblings_onBoard  \\\n",
      "0           0               3       0    1                 1   \n",
      "1           1               1       1    1                 1   \n",
      "2           1               3       1    1                 0   \n",
      "3           1               1       1    1                 1   \n",
      "4           0               3       0    1                 0   \n",
      "..        ...             ...     ...  ...               ...   \n",
      "882         0               2       0    1                 0   \n",
      "883         1               1       1    1                 0   \n",
      "884         0               3       1    0                 1   \n",
      "885         1               1       0    1                 0   \n",
      "886         0               3       0    1                 0   \n",
      "\n",
      "     Relatives_onBoard  \n",
      "0                    0  \n",
      "1                    0  \n",
      "2                    0  \n",
      "3                    0  \n",
      "4                    0  \n",
      "..                 ...  \n",
      "882                  0  \n",
      "883                  0  \n",
      "884                  2  \n",
      "885                  0  \n",
      "886                  0  \n",
      "\n",
      "[887 rows x 6 columns]\n"
     ]
    }
   ],
   "source": [
    "print(df_droppedColumns)"
   ]
  },
  {
   "cell_type": "code",
   "execution_count": 12,
   "metadata": {},
   "outputs": [],
   "source": [
    "targets = df_droppedColumns['Survived']\n",
    "features = df_droppedColumns.iloc[:,1:]"
   ]
  },
  {
   "cell_type": "code",
   "execution_count": 13,
   "metadata": {},
   "outputs": [
    {
     "name": "stdout",
     "output_type": "stream",
     "text": [
      "   PassengerClass  Gender  Age  Siblings_onBoard  Relatives_onBoard\n",
      "0               3       0    1                 1                  0\n",
      "1               1       1    1                 1                  0\n",
      "2               3       1    1                 0                  0\n",
      "3               1       1    1                 1                  0\n",
      "4               3       0    1                 0                  0\n"
     ]
    }
   ],
   "source": [
    "print(features.head())"
   ]
  },
  {
   "cell_type": "code",
   "execution_count": 14,
   "metadata": {},
   "outputs": [
    {
     "name": "stdout",
     "output_type": "stream",
     "text": [
      "0    0\n",
      "1    1\n",
      "2    1\n",
      "3    1\n",
      "4    0\n",
      "Name: Survived, dtype: int64\n"
     ]
    }
   ],
   "source": [
    "print(targets.head())"
   ]
  },
  {
   "cell_type": "markdown",
   "metadata": {},
   "source": [
    "# DecisionTreeClassifier\n",
    "<strong>Gini</strong> and <strong>entropy</strong> functions are used as Impurity function<br>\n"
   ]
  },
  {
   "cell_type": "code",
   "execution_count": 15,
   "metadata": {},
   "outputs": [],
   "source": [
    "dtc_gini= DecisionTreeClassifier(criterion='gini',random_state=49)\n",
    "dtc_entropy = DecisionTreeClassifier(criterion='entropy' , random_state=49)"
   ]
  },
  {
   "cell_type": "markdown",
   "metadata": {},
   "source": [
    "# Splitting data into Training and testing "
   ]
  },
  {
   "cell_type": "code",
   "execution_count": 16,
   "metadata": {},
   "outputs": [],
   "source": [
    "from sklearn.model_selection  import train_test_split\n",
    "X_train,X_test,ytrain,ytest = train_test_split(features,targets,test_size=0.3)"
   ]
  },
  {
   "cell_type": "markdown",
   "metadata": {},
   "source": [
    "# Training classifier"
   ]
  },
  {
   "cell_type": "code",
   "execution_count": 17,
   "metadata": {},
   "outputs": [
    {
     "data": {
      "text/plain": [
       "DecisionTreeClassifier(random_state=49)"
      ]
     },
     "execution_count": 17,
     "metadata": {},
     "output_type": "execute_result"
    }
   ],
   "source": [
    "dtc_entropy.fit(X_train,ytrain)\n",
    "dtc_gini.fit(X_train,ytrain)"
   ]
  },
  {
   "cell_type": "markdown",
   "metadata": {},
   "source": [
    "# Predictions of unseen data(test dataset)"
   ]
  },
  {
   "cell_type": "code",
   "execution_count": 18,
   "metadata": {},
   "outputs": [
    {
     "name": "stdout",
     "output_type": "stream",
     "text": [
      "Entrophy accuracy: 0.7602996254681648\n"
     ]
    }
   ],
   "source": [
    "dtc_entropy_preds = dtc_entropy.predict(X_test)\n",
    "print('Entrophy accuracy:',accuracy_score(dtc_entropy_preds,ytest))"
   ]
  },
  {
   "cell_type": "code",
   "execution_count": 19,
   "metadata": {},
   "outputs": [
    {
     "name": "stdout",
     "output_type": "stream",
     "text": [
      "Gini accuracy: 0.7602996254681648\n"
     ]
    }
   ],
   "source": [
    "dtc_gini_preds = dtc_gini.predict(X_test)\n",
    "print('Gini accuracy:',accuracy_score(dtc_gini_preds,ytest))"
   ]
  },
  {
   "cell_type": "markdown",
   "metadata": {},
   "source": [
    "# Visualizing Trees"
   ]
  },
  {
   "cell_type": "code",
   "execution_count": 22,
   "metadata": {},
   "outputs": [
    {
     "data": {
      "image/png": "[encoded data removed]",
      "text/plain": [
       "<Figure size 432x288 with 1 Axes>"
      ]
     },
     "metadata": {
      "needs_background": "light"
     },
     "output_type": "display_data"
    }
   ],
   "source": [
    "from sklearn import tree\n",
    "import matplotlib.pyplot as plt\n",
    "tree.plot_tree(dtc_entropy,filled=True)\n",
    "plt.show()"
   ]
  },
  {
   "cell_type": "code",
   "execution_count": 23,
   "metadata": {},
   "outputs": [
    {
     "data": {
      "image/png": "[encoded data removed]",
      "text/plain": [
       "<Figure size 432x288 with 1 Axes>"
      ]
     },
     "metadata": {
      "needs_background": "light"
     },
     "output_type": "display_data"
    }
   ],
   "source": [
    "tree.plot_tree(dtc_gini)\n",
    "plt.show()"
   ]
  },
  {
   "cell_type": "code",
   "execution_count": null,
   "metadata": {},
   "outputs": [],
   "source": []
  }
 ],
 "metadata": {
  "kernelspec": {
   "display_name": "Python 3",
   "language": "python",
   "name": "python3"
  },
  "language_info": {
   "codemirror_mode": {
    "name": "ipython",
    "version": 3
   },
   "file_extension": ".py",
   "mimetype": "text/x-python",
   "name": "python",
   "nbconvert_exporter": "python",
   "pygments_lexer": "ipython3",
   "version": "3.8.2"
  }
 },
 "nbformat": 4,
 "nbformat_minor": 4
}
