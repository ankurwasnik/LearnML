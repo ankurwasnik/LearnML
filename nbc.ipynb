{
 "cells": [
  {
   "cell_type": "markdown",
   "metadata": {},
   "source": [
    "### Exp 6 Naive Bayes Classifier"
   ]
  },
  {
   "cell_type": "code",
   "execution_count": 1,
   "metadata": {},
   "outputs": [],
   "source": [
    "from csv import reader\n",
    "from math import sqrt\n",
    "from math import exp\n",
    "from math import pi\n",
    "import random"
   ]
  },
  {
   "cell_type": "code",
   "execution_count": 2,
   "metadata": {},
   "outputs": [],
   "source": [
    "def load_csv(filename):\n",
    "    dataset = list()\n",
    "    with open(filename, 'r') as file:\n",
    "        csv_reader = reader(file)\n",
    "        for row in csv_reader:\n",
    "                if not row:\n",
    "                    continue\n",
    "                dataset.append(row)\n",
    "    return dataset"
   ]
  },
  {
   "cell_type": "code",
   "execution_count": 3,
   "metadata": {},
   "outputs": [],
   "source": [
    "def str_column_to_float(dataset, column):\n",
    "        for row in dataset:\n",
    "            row[column] = float(row[column].strip())"
   ]
  },
  {
   "cell_type": "code",
   "execution_count": 4,
   "metadata": {},
   "outputs": [],
   "source": [
    "def str_column_to_int(dataset, column):\n",
    "        class_values = [row[column] for row in dataset]\n",
    "        unique = set(class_values)\n",
    "        lookup = dict()\n",
    "        for i, value in enumerate(unique):\n",
    "            lookup[value] = i\n",
    "            print('[%s] => %d' % (value, i))\n",
    "        for row in dataset:\n",
    "            row[column] = lookup[row[column]]\n",
    "        return lookup"
   ]
  },
  {
   "cell_type": "code",
   "execution_count": 5,
   "metadata": {},
   "outputs": [],
   "source": [
    "def separate_by_class(dataset):\n",
    "        separated = dict()\n",
    "        for i in range(len(dataset)):\n",
    "            vector = dataset[i]\n",
    "            class_value = vector[-1]\n",
    "            if (class_value not in separated):\n",
    "                separated[class_value] = list()\n",
    "            separated[class_value].append(vector)\n",
    "        return separated"
   ]
  },
  {
   "cell_type": "code",
   "execution_count": 6,
   "metadata": {},
   "outputs": [],
   "source": [
    "def mean(numbers):\n",
    "        return sum(numbers)/float(len(numbers))\n",
    "\n",
    "def stdev(numbers):\n",
    "        avg = mean(numbers)\n",
    "        variance = sum([(x-avg)**2 for x in numbers]) / float(len(numbers)-1)\n",
    "        return sqrt(variance)\n"
   ]
  },
  {
   "cell_type": "code",
   "execution_count": 7,
   "metadata": {},
   "outputs": [],
   "source": [
    "def summarize_dataset(dataset):\n",
    "        summaries = [(mean(column), stdev(column), len(column)) for column in zip(*dataset)]\n",
    "        del(summaries[-1])\n",
    "        return summaries"
   ]
  },
  {
   "cell_type": "code",
   "execution_count": 8,
   "metadata": {},
   "outputs": [],
   "source": [
    "def summarize_by_class(dataset):\n",
    "        separated = separate_by_class(dataset)\n",
    "        summaries = dict()\n",
    "        for class_value, rows in separated.items():\n",
    "            summaries[class_value] = summarize_dataset(rows)\n",
    "        return summaries"
   ]
  },
  {
   "cell_type": "code",
   "execution_count": 9,
   "metadata": {},
   "outputs": [],
   "source": [
    "def calculate_probability(x, mean, stdev):\n",
    "        exponent = exp(-((x-mean)**2 / (2 * stdev**2 )))\n",
    "        return (1 / (sqrt(2 * pi) * stdev)) * exponent"
   ]
  },
  {
   "cell_type": "code",
   "execution_count": 10,
   "metadata": {},
   "outputs": [],
   "source": [
    "def calculate_class_probabilities(summaries, row):\n",
    "        total_rows = sum([summaries[label][0][2] for label in summaries])\n",
    "        probabilities = dict()\n",
    "        for class_value, class_summaries in summaries.items():\n",
    "            probabilities[class_value] = summaries[class_value][0][2]/float(total_rows)\n",
    "            for i in range(len(class_summaries)):\n",
    "                mean, stdev, _ = class_summaries[i]\n",
    "                probabilities[class_value] *= calculate_probability(row[i], mean, stdev)\n",
    "        return probabilities"
   ]
  },
  {
   "cell_type": "code",
   "execution_count": 11,
   "metadata": {},
   "outputs": [],
   "source": [
    "def predict(summaries, row):\n",
    "        probabilities = calculate_class_probabilities(summaries, row)\n",
    "        best_label, best_prob = None, -1\n",
    "        for class_value, probability in probabilities.items():\n",
    "            if best_label is None or probability > best_prob:\n",
    "                best_prob = probability\n",
    "                best_label = class_value\n",
    "        return best_label"
   ]
  },
  {
   "cell_type": "markdown",
   "metadata": {},
   "source": [
    "### IRIS dataset "
   ]
  },
  {
   "cell_type": "code",
   "execution_count": 12,
   "metadata": {},
   "outputs": [
    {
     "name": "stdout",
     "output_type": "stream",
     "text": [
      "[Iris-virginica] => 0\n",
      "[Iris-versicolor] => 1\n",
      "[Iris-setosa] => 2\n",
      "Data=[5.7, 2.9, 4.2, 1.3], Predicted: 1\n"
     ]
    }
   ],
   "source": [
    "filename = 'iris.csv'\n",
    "dataset = load_csv(filename)\n",
    "import random\n",
    "random.shuffle(dataset) #shuffle the data\n",
    "training = dataset[:120] #train data\n",
    "testing=dataset[120:] #test data\n",
    "for i in range(len(dataset[0])-1): #encode class labels\n",
    "     str_column_to_float(dataset, i)\n",
    "'''\n",
    "Metadata\n",
    "[Iris-setosa] => 0\n",
    "[Iris-virginica] => 1\n",
    "[Iris-versicolor] => 2\n",
    "'''\n",
    "str_column_to_int(dataset, len(dataset[0])-1)\n",
    "# fit model / get summaries @(mean,std,ntotal)\n",
    "model = summarize_by_class(dataset)\n",
    "\n",
    "'''\n",
    "@done\n",
    "'''\n",
    "\"\"\"\n",
    "# define a new record\n",
    "row = [5.7,2.9,4.2,1.3]\n",
    "# predict the label\n",
    "label = predict(model, row)\n",
    "print('Data=%s, Predicted: %s' % (row, label))\n",
    "\"\"\""
   ]
  },
  {
   "cell_type": "markdown",
   "metadata": {},
   "source": [
    " ## testing\n",
    " ## Metadata\n",
    " <ul>\n",
    " <li>150 total dataset samples\n",
    " <li>120 used for training\n",
    " <li>30 examples are used for testing\n"
   ]
  },
  {
   "cell_type": "code",
   "execution_count": 13,
   "metadata": {},
   "outputs": [
    {
     "data": {
      "text/plain": [
       "[[6.2, 3.4, 5.4, 2.3, 0],\n",
       " [7.2, 3.6, 6.1, 2.5, 0],\n",
       " [5.2, 3.4, 1.4, 0.2, 2],\n",
       " [7.0, 3.2, 4.7, 1.4, 1],\n",
       " [6.3, 2.5, 5.0, 1.9, 0]]"
      ]
     },
     "execution_count": 13,
     "metadata": {},
     "output_type": "execute_result"
    }
   ],
   "source": [
    "testing[:5] #samples"
   ]
  },
  {
   "cell_type": "code",
   "execution_count": 14,
   "metadata": {},
   "outputs": [],
   "source": [
    "tfeat=[]\n",
    "tlabel=[]\n",
    "rowlen = len(testing[0])\n",
    "for i in range(len(testing)):\n",
    "    tfeat.append(testing[i][:rowlen-1]) #features\n",
    "    tlabel.append(testing[i][-1]) #labels last column\n",
    "#got f and l"
   ]
  },
  {
   "cell_type": "code",
   "execution_count": 15,
   "metadata": {},
   "outputs": [],
   "source": [
    "def evaluate(model,features , labels ):\n",
    "    count=0\n",
    "    assert len(features)==len(labels) , \"Testing data error!\\n\"\n",
    "    dlen=len(features)\n",
    "    for i in range(dlen):\n",
    "        yaht = predict(model, features[i])\n",
    "        if yaht==labels[i]:\n",
    "            count+=1\n",
    "    return(count/dlen)"
   ]
  },
  {
   "cell_type": "code",
   "execution_count": 16,
   "metadata": {},
   "outputs": [
    {
     "name": "stdout",
     "output_type": "stream",
     "text": [
      "Accuracy=96.67%\n"
     ]
    }
   ],
   "source": [
    "print(\"Accuracy={}%\".format(round(evaluate(model,tfeat,tlabel),4)*100))"
   ]
  },
  {
   "cell_type": "code",
   "execution_count": null,
   "metadata": {},
   "outputs": [],
   "source": []
  }
 ],
 "metadata": {
  "kernelspec": {
   "display_name": "Python 3",
   "language": "python",
   "name": "python3"
  },
  "language_info": {
   "codemirror_mode": {
    "name": "ipython",
    "version": 3
   },
   "file_extension": ".py",
   "mimetype": "text/x-python",
   "name": "python",
   "nbconvert_exporter": "python",
   "pygments_lexer": "ipython3",
   "version": "3.8.5"
  }
 },
 "nbformat": 4,
 "nbformat_minor": 4
}
