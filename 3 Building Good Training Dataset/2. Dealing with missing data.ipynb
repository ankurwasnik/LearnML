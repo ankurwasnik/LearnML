{
 "cells": [
  {
   "cell_type": "code",
   "execution_count": 31,
   "metadata": {},
   "outputs": [
    {
     "name": "stdout",
     "output_type": "stream",
     "text": [
      "Author: Ankur Wasnik\n",
      "\n",
      "Last updated: 2021-01-14\n",
      "\n"
     ]
    }
   ],
   "source": [
    " %load_ext watermark\n",
    " %watermark -a 'Ankur Wasnik' -u -d"
   ]
  },
  {
   "cell_type": "markdown",
   "metadata": {},
   "source": [
    "# Handling categorical data\n",
    "Basically, there are 2 types of data <br>\n",
    "<li> Oridinal data -> categorical data that can be sorted or ordered\n",
    "<br><li> Nominal data -> categorical data that can not be ordered.\n",
    "We have to deal with both types of categorical data"
   ]
  },
  {
   "cell_type": "code",
   "execution_count": 1,
   "metadata": {},
   "outputs": [],
   "source": [
    "#import libraries\n",
    "import pandas as pd\n",
    "import numpy as np"
   ]
  },
  {
   "cell_type": "code",
   "execution_count": 4,
   "metadata": {},
   "outputs": [
    {
     "name": "stdout",
     "output_type": "stream",
     "text": [
      "   color size  price classlabel\n",
      "0  green    M   10.1     class2\n",
      "1    red    L   13.5     class1\n",
      "2   blue   XL   15.3     class3\n"
     ]
    }
   ],
   "source": [
    "df = pd.DataFrame({'color':['green','red','blue'] ,\n",
    "                    'size':['M','L','XL'] , \n",
    "                    'price':[10.1,13.5,15.3],\n",
    "                    'classlabel':['class2','class1','class3']})\n",
    "print(df)"
   ]
  },
  {
   "cell_type": "markdown",
   "metadata": {},
   "source": [
    "Here , color is nominal data \n",
    "<br> size is ordinal data"
   ]
  },
  {
   "cell_type": "markdown",
   "metadata": {},
   "source": [
    "## Dealing with Ordinal data\n",
    "Our tool to deal with ordinal data is to mapping values to categorical data\n"
   ]
  },
  {
   "cell_type": "code",
   "execution_count": 6,
   "metadata": {},
   "outputs": [
    {
     "name": "stdout",
     "output_type": "stream",
     "text": [
      "   color  size  price classlabel\n",
      "0  green     0   10.1     class2\n",
      "1    red     2   13.5     class1\n",
      "2   blue     3   15.3     class3\n"
     ]
    }
   ],
   "source": [
    "mapping = {'XL':3,\n",
    "           'L':2,\n",
    "            'M':0}\n",
    "df['size'] = df['size'].map(mapping)\n",
    "print(df)"
   ]
  },
  {
   "cell_type": "markdown",
   "metadata": {},
   "source": [
    "Here we did mapping to size column and changed its value. You can compare with above dataframe"
   ]
  },
  {
   "cell_type": "code",
   "execution_count": 10,
   "metadata": {},
   "outputs": [
    {
     "name": "stdout",
     "output_type": "stream",
     "text": [
      "{3: 'XL', 2: 'L', 0: 'M'}\n"
     ]
    }
   ],
   "source": [
    "#Inverse mapping\n",
    "inv_mapping = { val : key for key , val in mapping.items()}\n",
    "print(inv_mapping)"
   ]
  },
  {
   "cell_type": "code",
   "execution_count": 11,
   "metadata": {},
   "outputs": [],
   "source": [
    "df['inv_mapping'] = df['size'].map(inv_mapping)"
   ]
  },
  {
   "cell_type": "code",
   "execution_count": 12,
   "metadata": {},
   "outputs": [
    {
     "name": "stdout",
     "output_type": "stream",
     "text": [
      "   color  size  price classlabel inv_mapping\n",
      "0  green     0   10.1     class2           M\n",
      "1    red     2   13.5     class1           L\n",
      "2   blue     3   15.3     class3          XL\n"
     ]
    }
   ],
   "source": [
    "print(df)"
   ]
  },
  {
   "cell_type": "markdown",
   "metadata": {},
   "source": [
    "We have added a column named 'inv_mapping' showing original mapping "
   ]
  },
  {
   "cell_type": "markdown",
   "metadata": {},
   "source": [
    "## Encoding class labels\n",
    "Many machine learning libraries require that class labels are encoded as integers values."
   ]
  },
  {
   "cell_type": "code",
   "execution_count": 13,
   "metadata": {},
   "outputs": [
    {
     "name": "stdout",
     "output_type": "stream",
     "text": [
      "{'class1': 0, 'class2': 1, 'class3': 2}\n"
     ]
    }
   ],
   "source": [
    "class_mapping = {value:idx for idx , value in enumerate(np.unique(df['classlabel']))}\n",
    "print(class_mapping)"
   ]
  },
  {
   "cell_type": "code",
   "execution_count": 14,
   "metadata": {},
   "outputs": [
    {
     "name": "stdout",
     "output_type": "stream",
     "text": [
      "Categorical class label \n",
      " 0    class2\n",
      "1    class1\n",
      "2    class3\n",
      "Name: classlabel, dtype: object\n",
      "   color  size  price  classlabel inv_mapping\n",
      "0  green     0   10.1           1           M\n",
      "1    red     2   13.5           0           L\n",
      "2   blue     3   15.3           2          XL\n"
     ]
    }
   ],
   "source": [
    "#Use mapping technique to convert categorical class label to integer values\n",
    "print('Categorical class label \\n',df['classlabel'])\n",
    "df['classlabel'] = df['classlabel'].map(class_mapping)\n",
    "print(df)"
   ]
  },
  {
   "cell_type": "markdown",
   "metadata": {},
   "source": [
    "You can see the classlabel column has changed to integer values"
   ]
  },
  {
   "cell_type": "markdown",
   "metadata": {},
   "source": [
    "## Label Encoding using sklearn"
   ]
  },
  {
   "cell_type": "code",
   "execution_count": 17,
   "metadata": {},
   "outputs": [
    {
     "name": "stdout",
     "output_type": "stream",
     "text": [
      "   color size  price classlabel\n",
      "0  green    M   10.1     class2\n",
      "1    red    L   13.5     class1\n",
      "2   blue   XL   15.3     class3\n",
      "[1 0 2]\n"
     ]
    }
   ],
   "source": [
    "from sklearn.preprocessing import LabelEncoder\n",
    "df = pd.DataFrame({'color':['green','red','blue'] ,\n",
    "                    'size':['M','L','XL'] , \n",
    "                    'price':[10.1,13.5,15.3],\n",
    "                    'classlabel':['class2','class1','class3']})\n",
    "print(df)\n"
   ]
  },
  {
   "cell_type": "code",
   "execution_count": 20,
   "metadata": {},
   "outputs": [
    {
     "name": "stdout",
     "output_type": "stream",
     "text": [
      "  classlabel  class_encoding\n",
      "0     class2               1\n",
      "1     class1               0\n",
      "2     class3               2\n"
     ]
    }
   ],
   "source": [
    "label_encoder = LabelEncoder()\n",
    "y=label_encoder.fit_transform(df['classlabel'].values)\n",
    "print(pd.DataFrame({'classlabel':df['classlabel'].values , \n",
    "                   'class_encoding':y}))"
   ]
  },
  {
   "cell_type": "code",
   "execution_count": 21,
   "metadata": {},
   "outputs": [
    {
     "name": "stdout",
     "output_type": "stream",
     "text": [
      "   class encoding inverse_encoding\n",
      "0               1           class2\n",
      "1               0           class1\n",
      "2               2           class3\n"
     ]
    }
   ],
   "source": [
    "#inverse_encoding \n",
    "inv_encoding =label_encoder.inverse_transform(y)\n",
    "print(pd.DataFrame({'class encoding':y ,\n",
    "                    'inverse_encoding': inv_encoding}))"
   ]
  },
  {
   "cell_type": "markdown",
   "metadata": {},
   "source": [
    "## Dealing with Nominal features\n",
    "Our tool to deal with the nominal features is One_Hot encoding"
   ]
  },
  {
   "cell_type": "markdown",
   "metadata": {},
   "source": [
    "## One-Hot Encoding using sklearn"
   ]
  },
  {
   "cell_type": "code",
   "execution_count": 22,
   "metadata": {},
   "outputs": [
    {
     "name": "stdout",
     "output_type": "stream",
     "text": [
      "   color size  price classlabel\n",
      "0  green    M   10.1     class2\n",
      "1    red    L   13.5     class1\n",
      "2   blue   XL   15.3     class3\n"
     ]
    }
   ],
   "source": [
    "from sklearn.preprocessing import OneHotEncoder\n",
    "df = pd.DataFrame({'color':['green','red','blue'] ,\n",
    "                    'size':['M','L','XL'] , \n",
    "                    'price':[10.1,13.5,15.3],\n",
    "                    'classlabel':['class2','class1','class3']})\n",
    "print(df)\n",
    "#color is the nominal categorical data \n"
   ]
  },
  {
   "cell_type": "code",
   "execution_count": 29,
   "metadata": {},
   "outputs": [
    {
     "name": "stdout",
     "output_type": "stream",
     "text": [
      "  (0, 1)\t1.0\n",
      "  (1, 2)\t1.0\n",
      "  (2, 0)\t1.0\n"
     ]
    }
   ],
   "source": [
    "oh_encoder = OneHotEncoder()\n",
    "oh_encoded_colors = oh_encoder.fit_transform(df['color'].values.reshape(-1,1))\n",
    "print(oh_encoded_colors)"
   ]
  },
  {
   "cell_type": "markdown",
   "metadata": {},
   "source": [
    "## One Hot Encoding using Pandas"
   ]
  },
  {
   "cell_type": "code",
   "execution_count": 30,
   "metadata": {},
   "outputs": [
    {
     "data": {
      "text/html": [
       "<div>\n",
       "<style scoped>\n",
       "    .dataframe tbody tr th:only-of-type {\n",
       "        vertical-align: middle;\n",
       "    }\n",
       "\n",
       "    .dataframe tbody tr th {\n",
       "        vertical-align: top;\n",
       "    }\n",
       "\n",
       "    .dataframe thead th {\n",
       "        text-align: right;\n",
       "    }\n",
       "</style>\n",
       "<table border=\"1\" class=\"dataframe\">\n",
       "  <thead>\n",
       "    <tr style=\"text-align: right;\">\n",
       "      <th></th>\n",
       "      <th>price</th>\n",
       "      <th>color_blue</th>\n",
       "      <th>color_green</th>\n",
       "      <th>color_red</th>\n",
       "    </tr>\n",
       "  </thead>\n",
       "  <tbody>\n",
       "    <tr>\n",
       "      <th>0</th>\n",
       "      <td>10.1</td>\n",
       "      <td>0</td>\n",
       "      <td>1</td>\n",
       "      <td>0</td>\n",
       "    </tr>\n",
       "    <tr>\n",
       "      <th>1</th>\n",
       "      <td>13.5</td>\n",
       "      <td>0</td>\n",
       "      <td>0</td>\n",
       "      <td>1</td>\n",
       "    </tr>\n",
       "    <tr>\n",
       "      <th>2</th>\n",
       "      <td>15.3</td>\n",
       "      <td>1</td>\n",
       "      <td>0</td>\n",
       "      <td>0</td>\n",
       "    </tr>\n",
       "  </tbody>\n",
       "</table>\n",
       "</div>"
      ],
      "text/plain": [
       "   price  color_blue  color_green  color_red\n",
       "0   10.1           0            1          0\n",
       "1   13.5           0            0          1\n",
       "2   15.3           1            0          0"
      ]
     },
     "execution_count": 30,
     "metadata": {},
     "output_type": "execute_result"
    }
   ],
   "source": [
    "pd.get_dummies(df[['color','price']])"
   ]
  },
  {
   "cell_type": "markdown",
   "metadata": {},
   "source": [
    "Here get_dummies method only do one-hot encoding to string values columns and leaves rest ."
   ]
  },
  {
   "cell_type": "markdown",
   "metadata": {},
   "source": [
    "# Do check other machine learning tutorials @ankurwasnik GITHUB"
   ]
  }
 ],
 "metadata": {
  "kernelspec": {
   "display_name": "Python 3",
   "language": "python",
   "name": "python3"
  },
  "language_info": {
   "codemirror_mode": {
    "name": "ipython",
    "version": 3
   },
   "file_extension": ".py",
   "mimetype": "text/x-python",
   "name": "python",
   "nbconvert_exporter": "python",
   "pygments_lexer": "ipython3",
   "version": "3.8.3"
  }
 },
 "nbformat": 4,
 "nbformat_minor": 4
}
