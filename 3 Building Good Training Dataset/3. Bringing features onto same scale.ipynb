{
 "cells": [
  {
   "cell_type": "markdown",
   "metadata": {},
   "source": [
    "# Bringing features onto same scale"
   ]
  },
  {
   "cell_type": "markdown",
   "metadata": {},
   "source": [
    "## Feature scaling is an important step in data preprocessing pipeline that can be easily be forgotten.\n",
    "<li> Decision trees and <li> Random forests are the two machine learning algorithms that do not need to worry about feature scaling . But rest of others can give good results if we do learn this skill. <br>\n",
    "There are two common approaches to bring different features onto the same scale<br>\n",
    "<li>1. Normalization<br>\n",
    "<li>2. Standarization"
   ]
  },
  {
   "cell_type": "code",
   "execution_count": 1,
   "metadata": {},
   "outputs": [],
   "source": [
    "%config Completer.use_jedi = False"
   ]
  },
  {
   "cell_type": "code",
   "execution_count": 2,
   "metadata": {},
   "outputs": [],
   "source": [
    "import numpy as np\n",
    "import pandas as pd\n",
    "import os"
   ]
  },
  {
   "cell_type": "code",
   "execution_count": 3,
   "metadata": {},
   "outputs": [
    {
     "name": "stdout",
     "output_type": "stream",
     "text": [
      "   0      1     2     3     4    5     6     7     8     9     10    11    12  \\\n",
      "0   1  14.23  1.71  2.43  15.6  127  2.80  3.06  0.28  2.29  5.64  1.04  3.92   \n",
      "1   1  13.20  1.78  2.14  11.2  100  2.65  2.76  0.26  1.28  4.38  1.05  3.40   \n",
      "2   1  13.16  2.36  2.67  18.6  101  2.80  3.24  0.30  2.81  5.68  1.03  3.17   \n",
      "3   1  14.37  1.95  2.50  16.8  113  3.85  3.49  0.24  2.18  7.80  0.86  3.45   \n",
      "4   1  13.24  2.59  2.87  21.0  118  2.80  2.69  0.39  1.82  4.32  1.04  2.93   \n",
      "\n",
      "     13  \n",
      "0  1065  \n",
      "1  1050  \n",
      "2  1185  \n",
      "3  1480  \n",
      "4   735  \n"
     ]
    }
   ],
   "source": [
    "df = pd.read_csv('https://archive.ics.uci.edu/ml/machine-learning-databases/wine/wine.data' , header=None)\n",
    "print(df.head())"
   ]
  },
  {
   "cell_type": "code",
   "execution_count": 4,
   "metadata": {},
   "outputs": [
    {
     "name": "stdout",
     "output_type": "stream",
     "text": [
      "Class labels:  [1 2 3]\n"
     ]
    }
   ],
   "source": [
    "df.columns =['Class_label','Alcohol','Malic acid','Ash','Alkalinity of ash','Magnesium' , 'Total phenols' ,'Flavanoids','Nonflavanoids phenols','Proanthocyanins','Color Intensity','Hue','OD280/OD315 of diluted wines','Proline']\n",
    "print('Class labels: ',np.unique(df['Class_label']))"
   ]
  },
  {
   "cell_type": "code",
   "execution_count": 5,
   "metadata": {},
   "outputs": [
    {
     "name": "stdout",
     "output_type": "stream",
     "text": [
      "   Class_label  Alcohol  Malic acid   Ash  Alkalinity of ash  Magnesium  \\\n",
      "0            1    14.23        1.71  2.43               15.6        127   \n",
      "1            1    13.20        1.78  2.14               11.2        100   \n",
      "2            1    13.16        2.36  2.67               18.6        101   \n",
      "3            1    14.37        1.95  2.50               16.8        113   \n",
      "4            1    13.24        2.59  2.87               21.0        118   \n",
      "\n",
      "   Total phenols  Flavanoids  Nonflavanoids phenols  Proanthocyanins  \\\n",
      "0           2.80        3.06                   0.28             2.29   \n",
      "1           2.65        2.76                   0.26             1.28   \n",
      "2           2.80        3.24                   0.30             2.81   \n",
      "3           3.85        3.49                   0.24             2.18   \n",
      "4           2.80        2.69                   0.39             1.82   \n",
      "\n",
      "   Color Intensity   Hue  OD280/OD315 of diluted wines  Proline  \n",
      "0             5.64  1.04                          3.92     1065  \n",
      "1             4.38  1.05                          3.40     1050  \n",
      "2             5.68  1.03                          3.17     1185  \n",
      "3             7.80  0.86                          3.45     1480  \n",
      "4             4.32  1.04                          2.93      735  \n"
     ]
    }
   ],
   "source": [
    "print(df.head())"
   ]
  },
  {
   "cell_type": "code",
   "execution_count": 6,
   "metadata": {},
   "outputs": [],
   "source": [
    "from sklearn.model_selection import train_test_split\n",
    "X,y = df.iloc[:,1:].values , df.iloc[:,0].values\n",
    "Xtrain ,Xtest , ytrain,ytest = train_test_split(X,y ,test_size=0.3 ,random_state=0,stratify=y)"
   ]
  },
  {
   "cell_type": "markdown",
   "metadata": {},
   "source": [
    "stratify=y means that both the training and test dataset have same class proportions as original dataset"
   ]
  },
  {
   "cell_type": "code",
   "execution_count": 7,
   "metadata": {},
   "outputs": [],
   "source": [
    "from sklearn.preprocessing import MinMaxScaler\n",
    "mms = MinMaxScaler()\n",
    "X_train_norm = mms.fit_transform(Xtrain)\n",
    "X_test_norm  = mms.fit(Xtest)"
   ]
  },
  {
   "cell_type": "code",
   "execution_count": 8,
   "metadata": {},
   "outputs": [],
   "source": [
    "from sklearn.preprocessing import  StandardScaler\n",
    "ss = StandardScaler()\n",
    "X_train_standard = ss.fit_transform(Xtrain)\n",
    "X_test_standard  = ss.transform(Xtest)"
   ]
  },
  {
   "cell_type": "code",
   "execution_count": 12,
   "metadata": {},
   "outputs": [
    {
     "data": {
      "text/plain": [
       "(124, 13)"
      ]
     },
     "execution_count": 12,
     "metadata": {},
     "output_type": "execute_result"
    }
   ],
   "source": [
    "Xtrain.shape"
   ]
  },
  {
   "cell_type": "code",
   "execution_count": 16,
   "metadata": {},
   "outputs": [
    {
     "name": "stdout",
     "output_type": "stream",
     "text": [
      "   Original  Normalized  Standarized\n",
      "0      4.95    0.832016     2.220487\n",
      "1      1.53    0.156126    -0.704572\n",
      "2      1.50    0.150198    -0.730230\n",
      "3      1.80    0.209486    -0.473646\n",
      "4      2.46    0.339921     0.090839\n"
     ]
    }
   ],
   "source": [
    "ddf = pd.DataFrame({'Original':Xtrain[:,1] , \n",
    "                   'Normalized':X_train_norm[:,1],\n",
    "                   'Standarized':X_train_standard[:,1]} , index=None)\n",
    "print(ddf.head())"
   ]
  },
  {
   "cell_type": "code",
   "execution_count": null,
   "metadata": {},
   "outputs": [],
   "source": []
  }
 ],
 "metadata": {
  "kernelspec": {
   "display_name": "Python 3",
   "language": "python",
   "name": "python3"
  },
  "language_info": {
   "codemirror_mode": {
    "name": "ipython",
    "version": 3
   },
   "file_extension": ".py",
   "mimetype": "text/x-python",
   "name": "python",
   "nbconvert_exporter": "python",
   "pygments_lexer": "ipython3",
   "version": "3.8.2"
  }
 },
 "nbformat": 4,
 "nbformat_minor": 4
}
