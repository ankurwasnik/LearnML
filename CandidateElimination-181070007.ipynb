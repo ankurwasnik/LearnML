{
 "cells": [
  {
   "cell_type": "markdown",
   "metadata": {},
   "source": [
    "# CANDIDATE ELIMINATION ALGORITHM\n"
   ]
  },
  {
   "cell_type": "code",
   "execution_count": 1,
   "metadata": {},
   "outputs": [],
   "source": [
    "import numpy as np\n",
    "import pandas as pd"
   ]
  },
  {
   "cell_type": "code",
   "execution_count": 2,
   "metadata": {},
   "outputs": [
    {
     "name": "stdout",
     "output_type": "stream",
     "text": [
      "   Survived  Pclass                                               Name  \\\n",
      "0         0       3                             Mr. Owen Harris Braund   \n",
      "1         1       1  Mrs. John Bradley (Florence Briggs Thayer) Cum...   \n",
      "2         1       3                              Miss. Laina Heikkinen   \n",
      "3         1       1        Mrs. Jacques Heath (Lily May Peel) Futrelle   \n",
      "4         0       3                            Mr. William Henry Allen   \n",
      "\n",
      "      Sex   Age  Siblings/Spouses Aboard  Parents/Children Aboard     Fare  \n",
      "0    male  22.0                        1                        0   7.2500  \n",
      "1  female  38.0                        1                        0  71.2833  \n",
      "2  female  26.0                        0                        0   7.9250  \n",
      "3  female  35.0                        1                        0  53.1000  \n",
      "4    male  35.0                        0                        0   8.0500  \n"
     ]
    }
   ],
   "source": [
    "data_link = './titanic.csv'\n",
    "raw_tdf   = pd.read_csv(data_link)\n",
    "print(raw_tdf.head())"
   ]
  },
  {
   "cell_type": "code",
   "execution_count": 3,
   "metadata": {
    "scrolled": true
   },
   "outputs": [
    {
     "name": "stdout",
     "output_type": "stream",
     "text": [
      "Index(['Survived', 'Pclass', 'Name', 'Sex', 'Age', 'Siblings/Spouses Aboard',\n",
      "       'Parents/Children Aboard', 'Fare'],\n",
      "      dtype='object')\n"
     ]
    }
   ],
   "source": [
    "print(raw_tdf.columns)"
   ]
  },
  {
   "cell_type": "code",
   "execution_count": 4,
   "metadata": {},
   "outputs": [
    {
     "data": {
      "text/html": [
       "<div>\n",
       "<style scoped>\n",
       "    .dataframe tbody tr th:only-of-type {\n",
       "        vertical-align: middle;\n",
       "    }\n",
       "\n",
       "    .dataframe tbody tr th {\n",
       "        vertical-align: top;\n",
       "    }\n",
       "\n",
       "    .dataframe thead th {\n",
       "        text-align: right;\n",
       "    }\n",
       "</style>\n",
       "<table border=\"1\" class=\"dataframe\">\n",
       "  <thead>\n",
       "    <tr style=\"text-align: right;\">\n",
       "      <th></th>\n",
       "      <th>Survived</th>\n",
       "      <th>Pclass</th>\n",
       "      <th>Sex</th>\n",
       "      <th>Siblings/Spouses Aboard</th>\n",
       "      <th>Parents/Children Aboard</th>\n",
       "    </tr>\n",
       "  </thead>\n",
       "  <tbody>\n",
       "    <tr>\n",
       "      <th>0</th>\n",
       "      <td>0</td>\n",
       "      <td>3</td>\n",
       "      <td>male</td>\n",
       "      <td>1</td>\n",
       "      <td>0</td>\n",
       "    </tr>\n",
       "    <tr>\n",
       "      <th>1</th>\n",
       "      <td>1</td>\n",
       "      <td>1</td>\n",
       "      <td>female</td>\n",
       "      <td>1</td>\n",
       "      <td>0</td>\n",
       "    </tr>\n",
       "    <tr>\n",
       "      <th>2</th>\n",
       "      <td>1</td>\n",
       "      <td>3</td>\n",
       "      <td>female</td>\n",
       "      <td>0</td>\n",
       "      <td>0</td>\n",
       "    </tr>\n",
       "    <tr>\n",
       "      <th>3</th>\n",
       "      <td>1</td>\n",
       "      <td>1</td>\n",
       "      <td>female</td>\n",
       "      <td>1</td>\n",
       "      <td>0</td>\n",
       "    </tr>\n",
       "    <tr>\n",
       "      <th>4</th>\n",
       "      <td>0</td>\n",
       "      <td>3</td>\n",
       "      <td>male</td>\n",
       "      <td>0</td>\n",
       "      <td>0</td>\n",
       "    </tr>\n",
       "    <tr>\n",
       "      <th>...</th>\n",
       "      <td>...</td>\n",
       "      <td>...</td>\n",
       "      <td>...</td>\n",
       "      <td>...</td>\n",
       "      <td>...</td>\n",
       "    </tr>\n",
       "    <tr>\n",
       "      <th>882</th>\n",
       "      <td>0</td>\n",
       "      <td>2</td>\n",
       "      <td>male</td>\n",
       "      <td>0</td>\n",
       "      <td>0</td>\n",
       "    </tr>\n",
       "    <tr>\n",
       "      <th>883</th>\n",
       "      <td>1</td>\n",
       "      <td>1</td>\n",
       "      <td>female</td>\n",
       "      <td>0</td>\n",
       "      <td>0</td>\n",
       "    </tr>\n",
       "    <tr>\n",
       "      <th>884</th>\n",
       "      <td>0</td>\n",
       "      <td>3</td>\n",
       "      <td>female</td>\n",
       "      <td>1</td>\n",
       "      <td>2</td>\n",
       "    </tr>\n",
       "    <tr>\n",
       "      <th>885</th>\n",
       "      <td>1</td>\n",
       "      <td>1</td>\n",
       "      <td>male</td>\n",
       "      <td>0</td>\n",
       "      <td>0</td>\n",
       "    </tr>\n",
       "    <tr>\n",
       "      <th>886</th>\n",
       "      <td>0</td>\n",
       "      <td>3</td>\n",
       "      <td>male</td>\n",
       "      <td>0</td>\n",
       "      <td>0</td>\n",
       "    </tr>\n",
       "  </tbody>\n",
       "</table>\n",
       "<p>887 rows × 5 columns</p>\n",
       "</div>"
      ],
      "text/plain": [
       "     Survived  Pclass     Sex  Siblings/Spouses Aboard  \\\n",
       "0           0       3    male                        1   \n",
       "1           1       1  female                        1   \n",
       "2           1       3  female                        0   \n",
       "3           1       1  female                        1   \n",
       "4           0       3    male                        0   \n",
       "..        ...     ...     ...                      ...   \n",
       "882         0       2    male                        0   \n",
       "883         1       1  female                        0   \n",
       "884         0       3  female                        1   \n",
       "885         1       1    male                        0   \n",
       "886         0       3    male                        0   \n",
       "\n",
       "     Parents/Children Aboard  \n",
       "0                          0  \n",
       "1                          0  \n",
       "2                          0  \n",
       "3                          0  \n",
       "4                          0  \n",
       "..                       ...  \n",
       "882                        0  \n",
       "883                        0  \n",
       "884                        2  \n",
       "885                        0  \n",
       "886                        0  \n",
       "\n",
       "[887 rows x 5 columns]"
      ]
     },
     "execution_count": 4,
     "metadata": {},
     "output_type": "execute_result"
    }
   ],
   "source": [
    "#drop name column\n",
    "raw_tdf=raw_tdf.drop(['Name', 'Age','Fare'] , axis=1)\n",
    "raw_tdf"
   ]
  },
  {
   "cell_type": "code",
   "execution_count": 5,
   "metadata": {},
   "outputs": [
    {
     "name": "stdout",
     "output_type": "stream",
     "text": [
      "     Survived  Pclass  Sex  Siblings/Spouses Aboard  Parents/Children Aboard\n",
      "0           0       3    0                        1                        0\n",
      "1           1       1    1                        1                        0\n",
      "2           1       3    1                        0                        0\n",
      "3           1       1    1                        1                        0\n",
      "4           0       3    0                        0                        0\n",
      "..        ...     ...  ...                      ...                      ...\n",
      "882         0       2    0                        0                        0\n",
      "883         1       1    1                        0                        0\n",
      "884         0       3    1                        1                        2\n",
      "885         1       1    0                        0                        0\n",
      "886         0       3    0                        0                        0\n",
      "\n",
      "[887 rows x 5 columns]\n"
     ]
    }
   ],
   "source": [
    "#mapping sex column \n",
    "''' male->0 female->1'''\n",
    "mapping_df_sex = {'male':0 , 'female':1}\n",
    "raw_tdf['Sex']= raw_tdf['Sex'].map(mapping_df_sex)\n",
    "print(raw_tdf)"
   ]
  },
  {
   "cell_type": "code",
   "execution_count": 6,
   "metadata": {},
   "outputs": [
    {
     "name": "stdout",
     "output_type": "stream",
     "text": [
      "    Survived  Pclass  Sex  Siblings/Spouses Aboard  Parents/Children Aboard\n",
      "30         0       1    0                        0                        0\n",
      "31         1       1    1                        1                        0\n",
      "32         1       3    1                        0                        0\n",
      "33         0       2    0                        0                        0\n",
      "34         0       1    0                        1                        0\n"
     ]
    }
   ],
   "source": [
    "training_data = raw_tdf.iloc[30:35 ,:]\n",
    "print(training_data)"
   ]
  },
  {
   "cell_type": "code",
   "execution_count": 7,
   "metadata": {
    "scrolled": true
   },
   "outputs": [
    {
     "data": {
      "text/html": [
       "<div>\n",
       "<style scoped>\n",
       "    .dataframe tbody tr th:only-of-type {\n",
       "        vertical-align: middle;\n",
       "    }\n",
       "\n",
       "    .dataframe tbody tr th {\n",
       "        vertical-align: top;\n",
       "    }\n",
       "\n",
       "    .dataframe thead th {\n",
       "        text-align: right;\n",
       "    }\n",
       "</style>\n",
       "<table border=\"1\" class=\"dataframe\">\n",
       "  <thead>\n",
       "    <tr style=\"text-align: right;\">\n",
       "      <th></th>\n",
       "      <th>Survived</th>\n",
       "      <th>Pclass</th>\n",
       "      <th>Sex</th>\n",
       "      <th>Siblings/Spouses Aboard</th>\n",
       "      <th>Parents/Children Aboard</th>\n",
       "    </tr>\n",
       "  </thead>\n",
       "  <tbody>\n",
       "    <tr>\n",
       "      <th>5</th>\n",
       "      <td>0</td>\n",
       "      <td>3</td>\n",
       "      <td>0</td>\n",
       "      <td>0</td>\n",
       "      <td>0</td>\n",
       "    </tr>\n",
       "    <tr>\n",
       "      <th>6</th>\n",
       "      <td>0</td>\n",
       "      <td>1</td>\n",
       "      <td>0</td>\n",
       "      <td>0</td>\n",
       "      <td>0</td>\n",
       "    </tr>\n",
       "    <tr>\n",
       "      <th>7</th>\n",
       "      <td>0</td>\n",
       "      <td>3</td>\n",
       "      <td>0</td>\n",
       "      <td>3</td>\n",
       "      <td>1</td>\n",
       "    </tr>\n",
       "    <tr>\n",
       "      <th>8</th>\n",
       "      <td>1</td>\n",
       "      <td>3</td>\n",
       "      <td>1</td>\n",
       "      <td>0</td>\n",
       "      <td>2</td>\n",
       "    </tr>\n",
       "    <tr>\n",
       "      <th>9</th>\n",
       "      <td>1</td>\n",
       "      <td>2</td>\n",
       "      <td>1</td>\n",
       "      <td>1</td>\n",
       "      <td>0</td>\n",
       "    </tr>\n",
       "  </tbody>\n",
       "</table>\n",
       "</div>"
      ],
      "text/plain": [
       "   Survived  Pclass  Sex  Siblings/Spouses Aboard  Parents/Children Aboard\n",
       "5         0       3    0                        0                        0\n",
       "6         0       1    0                        0                        0\n",
       "7         0       3    0                        3                        1\n",
       "8         1       3    1                        0                        2\n",
       "9         1       2    1                        1                        0"
      ]
     },
     "execution_count": 7,
     "metadata": {},
     "output_type": "execute_result"
    }
   ],
   "source": [
    "testing_data = raw_tdf.iloc[5:10 , :]\n",
    "testing_data"
   ]
  },
  {
   "cell_type": "code",
   "execution_count": 8,
   "metadata": {},
   "outputs": [
    {
     "data": {
      "text/plain": [
       "5    0\n",
       "6    0\n",
       "7    0\n",
       "8    1\n",
       "9    1\n",
       "Name: Survived, dtype: int64"
      ]
     },
     "execution_count": 8,
     "metadata": {},
     "output_type": "execute_result"
    }
   ],
   "source": [
    "testing_true_values = testing_data['Survived']\n",
    "testing_true_values"
   ]
  },
  {
   "cell_type": "code",
   "execution_count": 9,
   "metadata": {},
   "outputs": [
    {
     "data": {
      "text/html": [
       "<div>\n",
       "<style scoped>\n",
       "    .dataframe tbody tr th:only-of-type {\n",
       "        vertical-align: middle;\n",
       "    }\n",
       "\n",
       "    .dataframe tbody tr th {\n",
       "        vertical-align: top;\n",
       "    }\n",
       "\n",
       "    .dataframe thead th {\n",
       "        text-align: right;\n",
       "    }\n",
       "</style>\n",
       "<table border=\"1\" class=\"dataframe\">\n",
       "  <thead>\n",
       "    <tr style=\"text-align: right;\">\n",
       "      <th></th>\n",
       "      <th>Pclass</th>\n",
       "      <th>Sex</th>\n",
       "      <th>Siblings/Spouses Aboard</th>\n",
       "      <th>Parents/Children Aboard</th>\n",
       "    </tr>\n",
       "  </thead>\n",
       "  <tbody>\n",
       "    <tr>\n",
       "      <th>5</th>\n",
       "      <td>3</td>\n",
       "      <td>0</td>\n",
       "      <td>0</td>\n",
       "      <td>0</td>\n",
       "    </tr>\n",
       "    <tr>\n",
       "      <th>6</th>\n",
       "      <td>1</td>\n",
       "      <td>0</td>\n",
       "      <td>0</td>\n",
       "      <td>0</td>\n",
       "    </tr>\n",
       "    <tr>\n",
       "      <th>7</th>\n",
       "      <td>3</td>\n",
       "      <td>0</td>\n",
       "      <td>3</td>\n",
       "      <td>1</td>\n",
       "    </tr>\n",
       "    <tr>\n",
       "      <th>8</th>\n",
       "      <td>3</td>\n",
       "      <td>1</td>\n",
       "      <td>0</td>\n",
       "      <td>2</td>\n",
       "    </tr>\n",
       "    <tr>\n",
       "      <th>9</th>\n",
       "      <td>2</td>\n",
       "      <td>1</td>\n",
       "      <td>1</td>\n",
       "      <td>0</td>\n",
       "    </tr>\n",
       "  </tbody>\n",
       "</table>\n",
       "</div>"
      ],
      "text/plain": [
       "   Pclass  Sex  Siblings/Spouses Aboard  Parents/Children Aboard\n",
       "5       3    0                        0                        0\n",
       "6       1    0                        0                        0\n",
       "7       3    0                        3                        1\n",
       "8       3    1                        0                        2\n",
       "9       2    1                        1                        0"
      ]
     },
     "execution_count": 9,
     "metadata": {},
     "output_type": "execute_result"
    }
   ],
   "source": [
    "testing_xis = testing_data.drop(['Survived'] , axis=True)\n",
    "testing_xis"
   ]
  },
  {
   "cell_type": "code",
   "execution_count": 10,
   "metadata": {},
   "outputs": [
    {
     "name": "stdout",
     "output_type": "stream",
     "text": [
      "    Pclass  Sex  Siblings/Spouses Aboard  Parents/Children Aboard\n",
      "30       1    0                        0                        0\n",
      "31       1    1                        1                        0\n",
      "32       3    1                        0                        0\n",
      "33       2    0                        0                        0\n",
      "34       1    0                        1                        0\n"
     ]
    }
   ],
   "source": [
    "training_features = training_data.iloc[:,1:]\n",
    "print(training_features)"
   ]
  },
  {
   "cell_type": "code",
   "execution_count": 11,
   "metadata": {
    "scrolled": true
   },
   "outputs": [
    {
     "name": "stdout",
     "output_type": "stream",
     "text": [
      "30    0\n",
      "31    1\n",
      "32    1\n",
      "33    0\n",
      "34    0\n",
      "Name: Survived, dtype: int64\n"
     ]
    }
   ],
   "source": [
    "training_target = training_data['Survived']\n",
    "print(training_target)"
   ]
  },
  {
   "cell_type": "code",
   "execution_count": 12,
   "metadata": {},
   "outputs": [],
   "source": [
    "def candidate_elimination(features , targets):\n",
    "    specific_h =None\n",
    "    for idx,val in enumerate(targets):\n",
    "        if val==1:\n",
    "            specific_h = features[idx]\n",
    "            break\n",
    "    general_h = [ ['?' for i in range(len(specific_h)) ] for j in range(len(specific_h)) ]\n",
    "    print('Specific_hypothesis',specific_h , end=\"\\n\\n\")\n",
    "    print('General_hypothesis',general_h , end=\"\\n\\n\")\n",
    "    \n",
    "    #its training time\n",
    "    for idx , val in enumerate(features):\n",
    "        if targets[idx]==1:\n",
    "            if i in range(len(specific_h)):\n",
    "                if specific_h[i]==val[i]:\n",
    "                    #do nothing \n",
    "                    pass\n",
    "                else :\n",
    "                    #generalize \n",
    "                    #find-s algo basically\n",
    "                    specific_h[i]='?'\n",
    "                    general_h[i][i]='?'\n",
    "        if targets[idx]==0 : #negative example found\n",
    "            for i in range(len(specific_h)):\n",
    "                if val[i]==specific_h[i]:\n",
    "                    #generalize\n",
    "                    general_h[i][i]='?'\n",
    "                else :\n",
    "                    #specific update in general hypothesis\n",
    "                    general_h[i][i]=specific_h[i]\n",
    "            \n",
    "    return specific_h , general_h"
   ]
  },
  {
   "cell_type": "code",
   "execution_count": 13,
   "metadata": {},
   "outputs": [],
   "source": [
    "def train(x,y):\n",
    "    features = np.array(x)\n",
    "    targets = np.array(y)\n",
    "    specific_h , general_h = candidate_elimination(features,targets)\n",
    "    \n",
    "    quest_list = ['?' for i in range(len(general_h))]\n",
    "    indx = [i for i ,val in enumerate(general_h) if val==quest_list ]\n",
    "    for i in indx :\n",
    "        general_h.remove(quest_list)\n",
    "    return specific_h , general_h"
   ]
  },
  {
   "cell_type": "code",
   "execution_count": 14,
   "metadata": {},
   "outputs": [
    {
     "name": "stdout",
     "output_type": "stream",
     "text": [
      "Specific_hypothesis [1 1 1 0]\n",
      "\n",
      "General_hypothesis [['?', '?', '?', '?'], ['?', '?', '?', '?'], ['?', '?', '?', '?'], ['?', '?', '?', '?']]\n",
      "\n",
      "After training \n",
      "\n",
      "\n",
      "\n",
      "Specific Hypothesis :\t [1 1 1 0]\n",
      "General Hypothesis :\t [['?', 1, '?', '?']]\n"
     ]
    }
   ],
   "source": [
    "specific_h , general_h = train(training_features,training_target)\n",
    "print('After training \\n\\n\\n')\n",
    "print('Specific Hypothesis :\\t',specific_h)\n",
    "print('General Hypothesis :\\t',general_h)"
   ]
  },
  {
   "cell_type": "markdown",
   "metadata": {},
   "source": [
    "# Tesing time"
   ]
  },
  {
   "cell_type": "code",
   "execution_count": 15,
   "metadata": {},
   "outputs": [],
   "source": [
    "def cealgo_match(xi ,hypothesis) :\n",
    "    count=0\n",
    "    lhypo = len(hypothesis)\n",
    "    for i in range(lhypo):\n",
    "        if xi[i]==hypothesis[i]:\n",
    "            count+=1\n",
    "    return (count/lhypo)"
   ]
  },
  {
   "cell_type": "code",
   "execution_count": 16,
   "metadata": {},
   "outputs": [],
   "source": [
    "def predict(testing_xi , true_labels , s_hypothesis):\n",
    "    score = 0\n",
    "    xlen = len(testing_xi)\n",
    "    testing_xi = np.array(testing_xi)\n",
    "    true_lables = np.array(true_labels)\n",
    "    for i in range(xlen):\n",
    "        score+= cealgo_match(testing_xi[i] , s_hypothesis )\n",
    "    return score/xlen"
   ]
  },
  {
   "cell_type": "code",
   "execution_count": 17,
   "metadata": {},
   "outputs": [],
   "source": [
    "accuracy = predict(testing_xis,testing_true_values , specific_h)"
   ]
  },
  {
   "cell_type": "code",
   "execution_count": 18,
   "metadata": {},
   "outputs": [
    {
     "name": "stdout",
     "output_type": "stream",
     "text": [
      "Accuracy = 35.0%\n"
     ]
    }
   ],
   "source": [
    "print('Accuracy = {}%'.format(accuracy*100))"
   ]
  }
 ],
 "metadata": {
  "kernelspec": {
   "display_name": "Python 3",
   "language": "python",
   "name": "python3"
  },
  "language_info": {
   "codemirror_mode": {
    "name": "ipython",
    "version": 3
   },
   "file_extension": ".py",
   "mimetype": "text/x-python",
   "name": "python",
   "nbconvert_exporter": "python",
   "pygments_lexer": "ipython3",
   "version": "3.8.3"
  }
 },
 "nbformat": 4,
 "nbformat_minor": 4
}
