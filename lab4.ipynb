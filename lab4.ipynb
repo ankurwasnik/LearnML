{
 "cells": [
  {
   "cell_type": "markdown",
   "metadata": {},
   "source": [
    "# single regression\n"
   ]
  },
  {
   "cell_type": "markdown",
   "metadata": {},
   "source": [
    "<strong> Ankur Wasnik <br>181070007<br> </strong>"
   ]
  },
  {
   "cell_type": "markdown",
   "metadata": {},
   "source": [
    "metadata<br>\n",
    "<ul>\n",
    "<li>class label [ 0 ,1] indicates whether class is virginica or not\n",
    "<li>single attribute used : first attribute\n",
    "    \n",
    "</ul>"
   ]
  },
  {
   "cell_type": "code",
   "execution_count": 5,
   "metadata": {},
   "outputs": [],
   "source": [
    "import os \n",
    "import pandas as pd\n",
    "import numpy as np\n",
    "import matplotlib.pyplot as plt"
   ]
  },
  {
   "cell_type": "code",
   "execution_count": 18,
   "metadata": {},
   "outputs": [
    {
     "name": "stdout",
     "output_type": "stream",
     "text": [
      "Downloading Iris Dataset from :\n",
      " https://archive.ics.uci.edu/ml/machine-learning-databases/iris/iris.data\n"
     ]
    }
   ],
   "source": [
    "s=os.path.join('https://archive.ics.uci.edu','ml','machine-learning-databases','iris','iris.data')\n",
    "print('Downloading Iris Dataset from :\\n',s)\n",
    "df = pd.read_csv(s,header=None,encoding='utf-8')\n"
   ]
  },
  {
   "cell_type": "code",
   "execution_count": 22,
   "metadata": {
    "scrolled": true
   },
   "outputs": [
    {
     "name": "stdout",
     "output_type": "stream",
     "text": [
      "       0    1    2    3               4\n",
      "145  6.7  3.0  5.2  2.3  Iris-virginica\n",
      "146  6.3  2.5  5.0  1.9  Iris-virginica\n",
      "147  6.5  3.0  5.2  2.0  Iris-virginica\n",
      "148  6.2  3.4  5.4  2.3  Iris-virginica\n",
      "149  5.9  3.0  5.1  1.8  Iris-virginica\n"
     ]
    }
   ],
   "source": [
    "print(df.tail())"
   ]
  },
  {
   "cell_type": "code",
   "execution_count": 227,
   "metadata": {},
   "outputs": [
    {
     "data": {
      "text/plain": [
       "150"
      ]
     },
     "execution_count": 227,
     "metadata": {},
     "output_type": "execute_result"
    }
   ],
   "source": [
    "len(df)"
   ]
  },
  {
   "cell_type": "code",
   "execution_count": 162,
   "metadata": {},
   "outputs": [],
   "source": [
    "class SimpleRegression():\n",
    "    def __init__(self, learning_rate=0.01 , epochs=10 , random_state=1):\n",
    "        self.learning_rate=learning_rate\n",
    "        self.epochs = epochs\n",
    "        self.random_state=random_state\n",
    "    def fit(self,X,y):\n",
    "        rgen=np.random.RandomState(self.random_state)\n",
    "        self.w= [np.random.random(1)/100,np.random.random(1)/100]\n",
    "        self.errors_ =[]\n",
    "        #gd rule for updates\n",
    "        for _ in range(self.epochs):\n",
    "            error=0\n",
    "            yhat_=[]\n",
    "            for xi,yi in zip(X,y) :\n",
    "                net_input=self.net_input(xi)\n",
    "                yhat=self.activation(net_input)\n",
    "                yhat_.append(yhat)\n",
    "                error+= yhat -yi\n",
    "                \n",
    "            self.w[0]+=self.learning_rate*(error)\n",
    "            self.w[1]+=self.learning_rate*(xi*error)\n",
    "            cost = -y*(np.log(yhat)) - (1-y)*(np.log(1-yhat))\n",
    "            self.errors_.append(cost)            \n",
    "        return self\n",
    "    def net_input(self,X):\n",
    "        return X*self.w[1]+self.w[0]\n",
    "    def activation(self,X):\n",
    "        return X \n",
    "    def getW(self):\n",
    "        return (self.w[0] ,self.w[1]) #base and weights  \n",
    "    def predict(self,X,threshold=0.2):\n",
    "        return np.where( self.activation(self.net_input(X)) >= threshold , 1 , -1)"
   ]
  },
  {
   "cell_type": "code",
   "execution_count": 199,
   "metadata": {},
   "outputs": [],
   "source": [
    "def simpleRegression(target_val,learning_rate,epochs,n_features=1,random_state=181070007 ):\n",
    "    y=df.iloc[0:100,4].values\n",
    "    y=np.where(y==target_val,-1,1)\n",
    "    X=df.iloc[0:100,nfeatures].values\n",
    "    plt.scatter(X,y)\n",
    "    lreg=SimpleRegression(learning_rate=learning_rate , epochs=epochs , random_state=random_state)\n",
    "    lreg.fit(X,y)\n",
    "    #We are done with training and You can predict on our trained model.\n",
    "    ''' Testing our trained data with one of trained data sample \\nBut you are free to do on testing data.'''\n",
    "    y_test = df.iloc[132 , 4]\n",
    "    y_test = np.where(y_test==target_val , -1,1)\n",
    "    X_test = df.iloc[132, nfeatures ] \n",
    "    pred=lreg.predict(X_test,threshold=0.6 )\n",
    "    print('Predicted Label for Testing data: '  , pred)\n",
    "    print('True Label for Testing data : ' , y_test)\n",
    "    if pred==y_test :\n",
    "        print('\\n***Correct Prediction***\\n')\n",
    "    w_=lreg.getW()\n",
    "    print(\"Intercept:\\t{}\\nWeightMatrix:\\t{}\".format(w_[0],w_[1]))\n",
    "    testy=df.iloc[100:,4].values\n",
    "    testy=np.where(testy==target_val,-1,1)\n",
    "    testx=df.iloc[100: ,nfeatures].values\n",
    "    print(testx.shape)\n",
    "    print(testy.shape)\n",
    "    accuracy(lreg,testx,testy)\n",
    "    "
   ]
  },
  {
   "cell_type": "code",
   "execution_count": 200,
   "metadata": {},
   "outputs": [],
   "source": [
    "def accuracy(regressor , testx ,testy):\n",
    "    count=0\n",
    "    length=len(testx)\n",
    "    for xi,yi in zip(testx,testy) :\n",
    "        yhat=regressor.predict(xi)\n",
    "        if(yhat==yi):\n",
    "            count+=1\n",
    "    ratio = count/length\n",
    "    print(\"Accuracy is %.2f \" %ratio)"
   ]
  },
  {
   "cell_type": "code",
   "execution_count": 201,
   "metadata": {},
   "outputs": [
    {
     "name": "stdout",
     "output_type": "stream",
     "text": [
      "Predicted Label for Testing data:  [1]\n",
      "True Label for Testing data :  1\n",
      "\n",
      "***Correct Prediction***\n",
      "\n",
      "Intercept:\t[1.56058837e+291]\n",
      "WeightMatrix:\t[4.36964744e+291]\n",
      "(50,)\n",
      "(50,)\n",
      "Accuracy is 1.00 \n"
     ]
    },
    {
     "name": "stderr",
     "output_type": "stream",
     "text": [
      "<ipython-input-162-38ccb5b6fe8d>:23: RuntimeWarning: invalid value encountered in log\n",
      "  cost = -y*(np.log(yhat)) - (1-y)*(np.log(1-yhat))\n"
     ]
    },
    {
     "data": {
      "image/png": "[encoded data removed]",
      "text/plain": [
       "<Figure size 432x288 with 1 Axes>"
      ]
     },
     "metadata": {
      "needs_background": "light"
     },
     "output_type": "display_data"
    }
   ],
   "source": [
    "simpleRegression(target_val='Iris-setosa',learning_rate=0.001,epochs=1000,n_features=1,random_state=181070007)"
   ]
  },
  {
   "cell_type": "markdown",
   "metadata": {},
   "source": [
    "# multiple regression : \n",
    "using multiple attributes "
   ]
  },
  {
   "cell_type": "code",
   "execution_count": 185,
   "metadata": {},
   "outputs": [],
   "source": [
    "class MultipleRegression():\n",
    "    def __init__(self, learning_rate=0.01 , epochs=10 , random_state=1):\n",
    "        self.learning_rate=learning_rate\n",
    "        self.epochs = epochs\n",
    "        self.random_state=random_state\n",
    "    def fit(self,X,y):\n",
    "        rgen=np.random.RandomState(self.random_state)\n",
    "        self.w_ = rgen.normal(loc=0.0,scale=0.01,size=1+X.shape[1])\n",
    "        self.errors_ =[]\n",
    "        #gd rule for updates\n",
    "        for _ in range(self.epochs):\n",
    "            net_input = self.net_input(X)\n",
    "            y_hat = self.activation(net_input)\n",
    "            errors = (y_hat - y)\n",
    "            self.w_[0]+=self.learning_rate*(errors.sum())\n",
    "            self.w_[1:]+= self.learning_rate*(np.dot(X.T,errors))\n",
    "            cost = -y*(np.log(y_hat)) - (1-y)*(np.log(1-y_hat))\n",
    "            self.errors_.append(cost)\n",
    "        return self\n",
    "    def net_input(self,X):\n",
    "        return np.dot(X,self.w_[1:])+self.w_[0]\n",
    "    def activation(self,X):\n",
    "        return 1.0/(1.0+np.exp(-X)) \n",
    "    def getW(self):\n",
    "        return (self.w_[0] ,self.w_[1:]) #base and weights \n",
    "    def predict(self,X,threshold=0.2):\n",
    "        return np.where( self.activation(self.net_input(X)) >= threshold , 1 , -1)"
   ]
  },
  {
   "cell_type": "code",
   "execution_count": 234,
   "metadata": {},
   "outputs": [],
   "source": [
    "def multiple_reg(features, learning_rate , epochs ,random_state):\n",
    "    target_val='Iris-virginica'\n",
    "    y=df.iloc[0:100,4].values\n",
    "    y=np.where(y==target_val,-1,1)\n",
    "    X=df.iloc[0:100,features].values\n",
    "    plt.plot(X,y)\n",
    "    xticks=np.linspace( 0,7,num=10  )\n",
    "    xticks=np.array(xticks)\n",
    "    plt.xticks(xticks)\n",
    "    lreg=LinearRegression(learning_rate=learning_rate , epochs=epochs , random_state=random_state)\n",
    "    lreg.fit(X,y)\n",
    "    #We are done with training and You can predict on our trained model.\n",
    "    ''' Testing our trained data with one of trained data sample \\nBut you are free to do on testing data.'''\n",
    "    y_test = df.iloc[134 , 4]\n",
    "    y_test = np.where(y_test==target_val , -1,1)\n",
    "    X_test = df.iloc[134, features ].values\n",
    "    pred=lreg.predict(X_test,threshold=0.6 )\n",
    "    print('Predicted Label for Testing data: '  , pred)\n",
    "    print('True Label for Testing data : ' , y_test)\n",
    "    if pred==y_test :\n",
    "        print('\\n***Correct Prediction***\\n')\n",
    "    w_=lreg.getW()\n",
    "    print(\"Intercept:\\t{}\\nWeightMatrix:\\t{}\".format(w_[0],w_[1]))\n",
    "    testy=df.iloc[100:,4].values\n",
    "    testy=np.where(testy==target_val,-1,1)\n",
    "    testx=df.iloc[100: ,features].values\n",
    "    print(testx.shape)\n",
    "    print(testy.shape)\n",
    "    accuracy_multiple(lreg,testx,testy)"
   ]
  },
  {
   "cell_type": "code",
   "execution_count": 235,
   "metadata": {},
   "outputs": [],
   "source": [
    "def accuracy_multiple(lreg,testx,testy):\n",
    "    count=0\n",
    "    length=len(testx)\n",
    "    for xi,yi in zip(testx,testy):\n",
    "        pred=lreg.predict(xi)\n",
    "        if pred==yi:\n",
    "            count+=1\n",
    "    print('accuracy={}'.format(np.round(count/length),2))"
   ]
  },
  {
   "cell_type": "code",
   "execution_count": 236,
   "metadata": {},
   "outputs": [
    {
     "name": "stdout",
     "output_type": "stream",
     "text": [
      "Predicted Label for Testing data:  -1\n",
      "True Label for Testing data :  -1\n",
      "\n",
      "***Correct Prediction***\n",
      "\n",
      "Intercept:\t-0.9397493056511658\n",
      "WeightMatrix:\t[-5.16340194 -2.9309597  -0.74495507]\n",
      "(50, 3)\n",
      "(50,)\n",
      "accuracy=1.0\n"
     ]
    },
    {
     "data": {
      "image/png": "[encoded data removed]",
      "text/plain": [
       "<Figure size 432x288 with 1 Axes>"
      ]
     },
     "metadata": {
      "needs_background": "light"
     },
     "output_type": "display_data"
    }
   ],
   "source": [
    "multiple_reg([0,1,3],0.001 , 10,34)"
   ]
  },
  {
   "cell_type": "code",
   "execution_count": null,
   "metadata": {},
   "outputs": [],
   "source": []
  }
 ],
 "metadata": {
  "kernelspec": {
   "display_name": "Python 3",
   "language": "python",
   "name": "python3"
  },
  "language_info": {
   "codemirror_mode": {
    "name": "ipython",
    "version": 3
   },
   "file_extension": ".py",
   "mimetype": "text/x-python",
   "name": "python",
   "nbconvert_exporter": "python",
   "pygments_lexer": "ipython3",
   "version": "3.8.5"
  }
 },
 "nbformat": 4,
 "nbformat_minor": 5
}
